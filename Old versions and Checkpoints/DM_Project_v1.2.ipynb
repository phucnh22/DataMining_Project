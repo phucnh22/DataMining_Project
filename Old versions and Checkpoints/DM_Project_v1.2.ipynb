{
 "cells": [
  {
   "cell_type": "markdown",
   "metadata": {},
   "source": [
    "# **1. Introduction** <a class=\"anchor\" id=\"1\"></a>\n",
    "## **1.2. Import packages**"
   ]
  },
  {
   "cell_type": "code",
   "execution_count": 1,
   "metadata": {},
   "outputs": [],
   "source": [
    "# Remember: library imports are ALWAYS at the top of the script, no exceptions!\n",
    "import math\n",
    "import sqlite3\n",
    "import os\n",
    "import pandas as pd\n",
    "import numpy as np\n",
    "import matplotlib.pyplot as plt\n",
    "import seaborn as sns\n",
    "import datetime as dt\n",
    "from math import ceil\n",
    "from sklearn.preprocessing import MinMaxScaler, StandardScaler\n",
    "from pandas_profiling import ProfileReport\n",
    "from sklearn.cluster import AgglomerativeClustering, KMeans\n",
    "from sklearn.decomposition import PCA\n",
    "# Feature selection\n",
    "from sklearn.feature_selection import VarianceThreshold\n",
    "\n",
    "from collections import defaultdict\n",
    "from sklearn.metrics.pairwise import euclidean_distances\n",
    "\n",
    "from sklearn import random_projection\n",
    "\n",
    "from scipy.cluster.hierarchy import dendrogram"
   ]
  },
  {
   "source": [
    "## Plotting Functions"
   ],
   "cell_type": "markdown",
   "metadata": {}
  },
  {
   "cell_type": "code",
   "execution_count": 2,
   "metadata": {},
   "outputs": [],
   "source": [
    "def boxplot_func(df):\n",
    "    plot_features = df.columns\n",
    "    #Prepare figure layout\n",
    "    rows = int(math.ceil(df.shape[1]/8))\n",
    "    sns.set()\n",
    "    fig, axes = plt.subplots(nrows = rows, ncols=8, figsize=(16,4*rows))\n",
    "  \n",
    "    # Draw the boxplots\n",
    "    for i in zip(axes.flatten(), plot_features):\n",
    "        sns.boxplot(data=df.loc[:,i[1]], ax=i[0])      \n",
    "        i[0].set_title(i[1])\n",
    "        i[0].set_ylabel(\"\")\n",
    "        for tick in i[0].get_xticklabels():\n",
    "            tick.set_rotation(-25)\n",
    "    \n",
    "    # Finalize the plot\n",
    "    plt.subplots_adjust(wspace=2,hspace = 0.5)\n",
    "    fig.suptitle(\"Box plots\", fontsize=25)\n",
    "    sns.despine(bottom=True)\n",
    "    plt.show()\n",
    "    \n",
    "def histplot_func(df):\n",
    "    plot_features = df.columns\n",
    "    #Prepare figure layout\n",
    "    rows = int(math.ceil(df.shape[1]/8))\n",
    "    sns.set()\n",
    "    fig, axes = plt.subplots(nrows = rows, ncols=8, figsize=(24,2*rows))\n",
    "       \n",
    "    # Draw the boxplots\n",
    "    for i in zip(axes.flatten(), plot_features):\n",
    "        sns.histplot(data=df.loc[:,i[1]], bins=20,ax=i[0])\n",
    "        i[0].set_xlabel(i[1])\n",
    "        i[0].set_ylabel(\"\")\n",
    "      \n",
    "    # Finalize the plot\n",
    "    plt.subplots_adjust(wspace=0.5,hspace = 0.5)\n",
    "    fig.suptitle(\"Histograms\", fontsize=15)\n",
    "    sns.despine(bottom=True)\n",
    "    plt.show()\n",
    "    \n",
    "def corrheatmap(dataframe):\n",
    "    sns.set(style=\"white\")\n",
    "\n",
    "    # Compute the correlation matrix\n",
    "    corr = dataframe.corr() #Getting correlation of numerical variables\n",
    "\n",
    "    # Generate a mask for the upper triangle\n",
    "    mask = np.zeros_like(corr, dtype=np.bool) #Return an array of zeros (Falses) with the same shape and type as a given array\n",
    "    mask[np.triu_indices_from(mask)] = True #The upper-triangle array is now composed by True values\n",
    "\n",
    "    # Set up the matplotlib figure\n",
    "    fig, ax = plt.subplots(figsize=(16, 8))\n",
    "\n",
    "    # Generate a custom diverging colormap\n",
    "    cmap = sns.diverging_palette(220, 10, as_cmap=True) #Make a diverging palette between two HUSL colors. Return a matplotlib colormap object.\n",
    "\n",
    "    # Draw the heatmap with the mask and correct aspect ratio\n",
    "    sns.heatmap(corr, mask=mask, cmap=cmap, center=0, square=True, annot=True,annot_kws={\"fontsize\":10}, linewidths=.5,vmin = -1, vmax = 1, ax=ax)\n",
    "\n",
    "    # Layout\n",
    "    plt.subplots_adjust(top=0.95)\n",
    "    plt.suptitle(\"Correlation matrix\", fontsize=15)\n",
    "    plt.yticks(rotation=0)\n",
    "    # Fixing the bug of partially cut-off bottom and top cells\n",
    "    b, t = plt.ylim() # discover the values for bottom and top\n",
    "    b += 0.5 # Add 0.5 to the bottom\n",
    "    t -= 0.5 # Subtract 0.5 from the top\n",
    "    plt.ylim(b, t) # update the ylim(bottom, top) values\n",
    "\n",
    "    plt.show()"
   ]
  },
  {
   "cell_type": "markdown",
   "metadata": {},
   "source": [
    "## **1.3. Import data**"
   ]
  },
  {
   "cell_type": "code",
   "execution_count": 3,
   "metadata": {},
   "outputs": [
    {
     "output_type": "stream",
     "name": "stdout",
     "text": [
      "The data set has total 95412 records and 475 features\n"
     ]
    }
   ],
   "source": [
    "data = pd.read_csv('data/donors.csv',index_col='CONTROLN', low_memory=False)\n",
    "print(\"The data set has total %d records and %d features\" %data.shape)"
   ]
  },
  {
   "cell_type": "markdown",
   "metadata": {},
   "source": [
    "# **2. Pre-processing data:** <a class=\"anchor\" id=\"1\"></a>"
   ]
  },
  {
   "cell_type": "markdown",
   "metadata": {},
   "source": [
    "After conducting **Exploratory Data Analysis (Appendix 1)** for 475 features of the original data set, we have listed out the most significant features that we consider to be important for the clustering task.  \n",
    "Thus, from now, we will continue with these selected features:"
   ]
  },
  {
   "cell_type": "code",
   "execution_count": 4,
   "metadata": {},
   "outputs": [
    {
     "output_type": "execute_result",
     "data": {
      "text/plain": [
       "      FeaturesName                                    Description  \\\n",
       "Index                                                               \n",
       "1          ODATEDW        Origin Date. Date of donor's first gift   \n",
       "2          OSOURCE                                  Origin Source   \n",
       "3            TCODE                               Donor title code   \n",
       "4            STATE  State abbreviation (a nominal/symbolic field)   \n",
       "5              ZIP             Zipcode (a nominal/symbolic field)   \n",
       "\n",
       "              Category SubCategory Selected  \n",
       "Index                                        \n",
       "1      Characteristics         NaN        x  \n",
       "2      Characteristics         NaN        x  \n",
       "3      Characteristics         NaN        x  \n",
       "4      Characteristics         NaN        x  \n",
       "5      Characteristics         NaN        x  "
      ],
      "text/html": "<div>\n<style scoped>\n    .dataframe tbody tr th:only-of-type {\n        vertical-align: middle;\n    }\n\n    .dataframe tbody tr th {\n        vertical-align: top;\n    }\n\n    .dataframe thead th {\n        text-align: right;\n    }\n</style>\n<table border=\"1\" class=\"dataframe\">\n  <thead>\n    <tr style=\"text-align: right;\">\n      <th></th>\n      <th>FeaturesName</th>\n      <th>Description</th>\n      <th>Category</th>\n      <th>SubCategory</th>\n      <th>Selected</th>\n    </tr>\n    <tr>\n      <th>Index</th>\n      <th></th>\n      <th></th>\n      <th></th>\n      <th></th>\n      <th></th>\n    </tr>\n  </thead>\n  <tbody>\n    <tr>\n      <th>1</th>\n      <td>ODATEDW</td>\n      <td>Origin Date. Date of donor's first gift</td>\n      <td>Characteristics</td>\n      <td>NaN</td>\n      <td>x</td>\n    </tr>\n    <tr>\n      <th>2</th>\n      <td>OSOURCE</td>\n      <td>Origin Source</td>\n      <td>Characteristics</td>\n      <td>NaN</td>\n      <td>x</td>\n    </tr>\n    <tr>\n      <th>3</th>\n      <td>TCODE</td>\n      <td>Donor title code</td>\n      <td>Characteristics</td>\n      <td>NaN</td>\n      <td>x</td>\n    </tr>\n    <tr>\n      <th>4</th>\n      <td>STATE</td>\n      <td>State abbreviation (a nominal/symbolic field)</td>\n      <td>Characteristics</td>\n      <td>NaN</td>\n      <td>x</td>\n    </tr>\n    <tr>\n      <th>5</th>\n      <td>ZIP</td>\n      <td>Zipcode (a nominal/symbolic field)</td>\n      <td>Characteristics</td>\n      <td>NaN</td>\n      <td>x</td>\n    </tr>\n  </tbody>\n</table>\n</div>"
     },
     "metadata": {},
     "execution_count": 4
    }
   ],
   "source": [
    "# Import the database we create for selecting the features:\n",
    "features_list = pd.read_csv('Selected_Features.csv',index_col=0)\n",
    "features_list.head()"
   ]
  },
  {
   "cell_type": "code",
   "execution_count": 5,
   "metadata": {
    "scrolled": false
   },
   "outputs": [],
   "source": [
    "# Get the selected features\n",
    "selected_feats = features_list[features_list['Selected'] == 'x']['FeaturesName']\n",
    "df = data[selected_feats].copy()\n",
    "df.dtypes\n",
    "\n",
    "# function to update slected features dataframe everytime we adjust the data\n",
    "def update_selected_feats_list(df, features_list):\n",
    "    selected_feats = features_list.loc[features_list['FeaturesName'].isin(df.columns),:]\n",
    "    return selected_feats"
   ]
  },
  {
   "cell_type": "markdown",
   "metadata": {},
   "source": [
    "## **Feature engineering:** <a class=\"anchor\" id=\"1\"></a>\n"
   ]
  },
  {
   "cell_type": "markdown",
   "metadata": {},
   "source": [
    "### **2.1. Getting the Age of every donor:** <a class=\"anchor\" id=\"1\"></a>\n",
    "We notice that there is one feature called DOB - Day of Birth of the donors, so we thought it would we useful to generate the age of the donors as one feature. The donor's age will be measured at the time the donor received the most recent promotion which is recorded in 'MAXADATE' feature."
   ]
  },
  {
   "cell_type": "code",
   "execution_count": 6,
   "metadata": {},
   "outputs": [
    {
     "output_type": "execute_result",
     "data": {
      "text/plain": [
       "CONTROLN\n",
       "95515     1957-12-01\n",
       "148535    1972-02-01\n",
       "15078            NaN\n",
       "172556    1948-01-01\n",
       "7112      1940-01-01\n",
       "Name: DOB, dtype: object"
      ]
     },
     "metadata": {},
     "execution_count": 6
    }
   ],
   "source": [
    "df['DOB'].head()"
   ]
  },
  {
   "cell_type": "code",
   "execution_count": 7,
   "metadata": {},
   "outputs": [],
   "source": [
    "#converting the DOB column to datetime type\n",
    "parsed_dates = pd.to_datetime(df.DOB, format='%Y-%m-%d' , errors='coerce') #errors='coerce' meant to return NaN in case of exception\n",
    "df['DOB'] = parsed_dates\n",
    "df['MAXADATE'] = pd.to_datetime(df['MAXADATE'], format='%Y-%m-%d' , errors='coerce')\n",
    "# Getting the age of every donor today\n",
    "df['AGE'] = ((df['MAXADATE'] - df['DOB']).dt.days/365).floordiv(other=1).astype('int',errors='ignore')\n",
    "\n",
    "# Append new features to the feature list\n",
    "feats = pd.DataFrame([['AGE', \"Age of the donor\",\"Characteristics\",\"\",\"x\" ]],\n",
    "                    columns=features_list.columns)\n",
    "features_list= features_list.append(feats,ignore_index=True)\n",
    "\n",
    "# Now, drop de DOB column as it is no longer useful\n",
    "df.drop('DOB',inplace=True,axis = 1)"
   ]
  },
  {
   "cell_type": "code",
   "execution_count": 8,
   "metadata": {
    "scrolled": true
   },
   "outputs": [
    {
     "output_type": "execute_result",
     "data": {
      "text/plain": [
       "<AxesSubplot:>"
      ]
     },
     "metadata": {},
     "execution_count": 8
    }
   ],
   "source": [
    "# Check for the box plot and distribution\n",
    "df.boxplot(column=['AGE'])\n",
    "# Here we can see that we have outliers, we will access this in the up coming session"
   ]
  },
  {
   "cell_type": "markdown",
   "metadata": {},
   "source": [
    "### **2.2. Converting binary features of mailing activity:** <a class=\"anchor\" id=\"1\"></a>\n",
    "There are features containing binary information but they are not in the right data type for processing, so we convert them to binary type"
   ]
  },
  {
   "cell_type": "code",
   "execution_count": 9,
   "metadata": {
    "scrolled": true
   },
   "outputs": [
    {
     "output_type": "execute_result",
     "data": {
      "text/plain": [
       "         COLLECT1 VETERANS BIBLE CATLG HOMEE PETS CDPLAY STEREO PCOWNERS  \\\n",
       "CONTROLN                                                                   \n",
       "95515                                                                      \n",
       "148535                                                                     \n",
       "15078                                                                      \n",
       "172556                                                                     \n",
       "7112                           Y     Y                        Y            \n",
       "\n",
       "         PHOTO CRAFTS FISHER GARDENIN BOATS WALKER KIDSTUFF CARDS PLATES  \n",
       "CONTROLN                                                                  \n",
       "95515                                                                     \n",
       "148535                                                                    \n",
       "15078                                                                     \n",
       "172556                                                                    \n",
       "7112                Y               Y            Y              Y         "
      ],
      "text/html": "<div>\n<style scoped>\n    .dataframe tbody tr th:only-of-type {\n        vertical-align: middle;\n    }\n\n    .dataframe tbody tr th {\n        vertical-align: top;\n    }\n\n    .dataframe thead th {\n        text-align: right;\n    }\n</style>\n<table border=\"1\" class=\"dataframe\">\n  <thead>\n    <tr style=\"text-align: right;\">\n      <th></th>\n      <th>COLLECT1</th>\n      <th>VETERANS</th>\n      <th>BIBLE</th>\n      <th>CATLG</th>\n      <th>HOMEE</th>\n      <th>PETS</th>\n      <th>CDPLAY</th>\n      <th>STEREO</th>\n      <th>PCOWNERS</th>\n      <th>PHOTO</th>\n      <th>CRAFTS</th>\n      <th>FISHER</th>\n      <th>GARDENIN</th>\n      <th>BOATS</th>\n      <th>WALKER</th>\n      <th>KIDSTUFF</th>\n      <th>CARDS</th>\n      <th>PLATES</th>\n    </tr>\n    <tr>\n      <th>CONTROLN</th>\n      <th></th>\n      <th></th>\n      <th></th>\n      <th></th>\n      <th></th>\n      <th></th>\n      <th></th>\n      <th></th>\n      <th></th>\n      <th></th>\n      <th></th>\n      <th></th>\n      <th></th>\n      <th></th>\n      <th></th>\n      <th></th>\n      <th></th>\n      <th></th>\n    </tr>\n  </thead>\n  <tbody>\n    <tr>\n      <th>95515</th>\n      <td></td>\n      <td></td>\n      <td></td>\n      <td></td>\n      <td></td>\n      <td></td>\n      <td></td>\n      <td></td>\n      <td></td>\n      <td></td>\n      <td></td>\n      <td></td>\n      <td></td>\n      <td></td>\n      <td></td>\n      <td></td>\n      <td></td>\n      <td></td>\n    </tr>\n    <tr>\n      <th>148535</th>\n      <td></td>\n      <td></td>\n      <td></td>\n      <td></td>\n      <td></td>\n      <td></td>\n      <td></td>\n      <td></td>\n      <td></td>\n      <td></td>\n      <td></td>\n      <td></td>\n      <td></td>\n      <td></td>\n      <td></td>\n      <td></td>\n      <td></td>\n      <td></td>\n    </tr>\n    <tr>\n      <th>15078</th>\n      <td></td>\n      <td></td>\n      <td></td>\n      <td></td>\n      <td></td>\n      <td></td>\n      <td></td>\n      <td></td>\n      <td></td>\n      <td></td>\n      <td></td>\n      <td></td>\n      <td></td>\n      <td></td>\n      <td></td>\n      <td></td>\n      <td></td>\n      <td></td>\n    </tr>\n    <tr>\n      <th>172556</th>\n      <td></td>\n      <td></td>\n      <td></td>\n      <td></td>\n      <td></td>\n      <td></td>\n      <td></td>\n      <td></td>\n      <td></td>\n      <td></td>\n      <td></td>\n      <td></td>\n      <td></td>\n      <td></td>\n      <td></td>\n      <td></td>\n      <td></td>\n      <td></td>\n    </tr>\n    <tr>\n      <th>7112</th>\n      <td></td>\n      <td></td>\n      <td>Y</td>\n      <td>Y</td>\n      <td></td>\n      <td></td>\n      <td></td>\n      <td>Y</td>\n      <td></td>\n      <td></td>\n      <td>Y</td>\n      <td></td>\n      <td>Y</td>\n      <td></td>\n      <td>Y</td>\n      <td></td>\n      <td>Y</td>\n      <td></td>\n    </tr>\n  </tbody>\n</table>\n</div>"
     },
     "metadata": {},
     "execution_count": 9
    }
   ],
   "source": [
    "df.loc[:, 'COLLECT1':'PLATES'].head()"
   ]
  },
  {
   "cell_type": "code",
   "execution_count": 10,
   "metadata": {},
   "outputs": [
    {
     "output_type": "execute_result",
     "data": {
      "text/plain": [
       "          COLLECT1  VETERANS  BIBLE  CATLG  HOMEE  PETS  CDPLAY  STEREO  \\\n",
       "CONTROLN                                                                  \n",
       "95515            0         0      0      0      0     0       0       0   \n",
       "148535           0         0      0      0      0     0       0       0   \n",
       "15078            0         0      0      0      0     0       0       0   \n",
       "172556           0         0      0      0      0     0       0       0   \n",
       "7112             0         0      1      1      0     0       0       1   \n",
       "\n",
       "          PCOWNERS  PHOTO  CRAFTS  FISHER  GARDENIN  BOATS  WALKER  KIDSTUFF  \\\n",
       "CONTROLN                                                                       \n",
       "95515            0      0       0       0         0      0       0         0   \n",
       "148535           0      0       0       0         0      0       0         0   \n",
       "15078            0      0       0       0         0      0       0         0   \n",
       "172556           0      0       0       0         0      0       0         0   \n",
       "7112             0      0       1       0         1      0       1         0   \n",
       "\n",
       "          CARDS  PLATES  \n",
       "CONTROLN                 \n",
       "95515         0       0  \n",
       "148535        0       0  \n",
       "15078         0       0  \n",
       "172556        0       0  \n",
       "7112          1       0  "
      ],
      "text/html": "<div>\n<style scoped>\n    .dataframe tbody tr th:only-of-type {\n        vertical-align: middle;\n    }\n\n    .dataframe tbody tr th {\n        vertical-align: top;\n    }\n\n    .dataframe thead th {\n        text-align: right;\n    }\n</style>\n<table border=\"1\" class=\"dataframe\">\n  <thead>\n    <tr style=\"text-align: right;\">\n      <th></th>\n      <th>COLLECT1</th>\n      <th>VETERANS</th>\n      <th>BIBLE</th>\n      <th>CATLG</th>\n      <th>HOMEE</th>\n      <th>PETS</th>\n      <th>CDPLAY</th>\n      <th>STEREO</th>\n      <th>PCOWNERS</th>\n      <th>PHOTO</th>\n      <th>CRAFTS</th>\n      <th>FISHER</th>\n      <th>GARDENIN</th>\n      <th>BOATS</th>\n      <th>WALKER</th>\n      <th>KIDSTUFF</th>\n      <th>CARDS</th>\n      <th>PLATES</th>\n    </tr>\n    <tr>\n      <th>CONTROLN</th>\n      <th></th>\n      <th></th>\n      <th></th>\n      <th></th>\n      <th></th>\n      <th></th>\n      <th></th>\n      <th></th>\n      <th></th>\n      <th></th>\n      <th></th>\n      <th></th>\n      <th></th>\n      <th></th>\n      <th></th>\n      <th></th>\n      <th></th>\n      <th></th>\n    </tr>\n  </thead>\n  <tbody>\n    <tr>\n      <th>95515</th>\n      <td>0</td>\n      <td>0</td>\n      <td>0</td>\n      <td>0</td>\n      <td>0</td>\n      <td>0</td>\n      <td>0</td>\n      <td>0</td>\n      <td>0</td>\n      <td>0</td>\n      <td>0</td>\n      <td>0</td>\n      <td>0</td>\n      <td>0</td>\n      <td>0</td>\n      <td>0</td>\n      <td>0</td>\n      <td>0</td>\n    </tr>\n    <tr>\n      <th>148535</th>\n      <td>0</td>\n      <td>0</td>\n      <td>0</td>\n      <td>0</td>\n      <td>0</td>\n      <td>0</td>\n      <td>0</td>\n      <td>0</td>\n      <td>0</td>\n      <td>0</td>\n      <td>0</td>\n      <td>0</td>\n      <td>0</td>\n      <td>0</td>\n      <td>0</td>\n      <td>0</td>\n      <td>0</td>\n      <td>0</td>\n    </tr>\n    <tr>\n      <th>15078</th>\n      <td>0</td>\n      <td>0</td>\n      <td>0</td>\n      <td>0</td>\n      <td>0</td>\n      <td>0</td>\n      <td>0</td>\n      <td>0</td>\n      <td>0</td>\n      <td>0</td>\n      <td>0</td>\n      <td>0</td>\n      <td>0</td>\n      <td>0</td>\n      <td>0</td>\n      <td>0</td>\n      <td>0</td>\n      <td>0</td>\n    </tr>\n    <tr>\n      <th>172556</th>\n      <td>0</td>\n      <td>0</td>\n      <td>0</td>\n      <td>0</td>\n      <td>0</td>\n      <td>0</td>\n      <td>0</td>\n      <td>0</td>\n      <td>0</td>\n      <td>0</td>\n      <td>0</td>\n      <td>0</td>\n      <td>0</td>\n      <td>0</td>\n      <td>0</td>\n      <td>0</td>\n      <td>0</td>\n      <td>0</td>\n    </tr>\n    <tr>\n      <th>7112</th>\n      <td>0</td>\n      <td>0</td>\n      <td>1</td>\n      <td>1</td>\n      <td>0</td>\n      <td>0</td>\n      <td>0</td>\n      <td>1</td>\n      <td>0</td>\n      <td>0</td>\n      <td>1</td>\n      <td>0</td>\n      <td>1</td>\n      <td>0</td>\n      <td>1</td>\n      <td>0</td>\n      <td>1</td>\n      <td>0</td>\n    </tr>\n  </tbody>\n</table>\n</div>"
     },
     "metadata": {},
     "execution_count": 10
    }
   ],
   "source": [
    "#Replace the values for booleans\n",
    "df.loc[:, 'COLLECT1':'PLATES'] = df.loc[:, 'COLLECT1':'PLATES'].replace(' ',0)\n",
    "df.loc[:, 'COLLECT1':'PLATES'] = df.loc[:, 'COLLECT1':'PLATES'].replace('Y',1)\n",
    "df.loc[:, 'COLLECT1':'PLATES'].head()"
   ]
  },
  {
   "cell_type": "code",
   "execution_count": 11,
   "metadata": {},
   "outputs": [],
   "source": [
    "# Plot the result\n",
    "plotdf = df.loc[:, 'COLLECT1':'PLATES'].apply(pd.value_counts)\n",
    "#plot pie charts for all the interests\n",
    "sns.set()\n",
    "fig, axes = plt.subplots(3, ceil(len(plotdf.columns.to_list()) / 3), figsize=(20,11))\n",
    "for ax, feat in zip(axes.flatten(), plotdf.columns.to_list()):\n",
    "    ax.pie(plotdf[feat])\n",
    "    ax.set_title(feat, y=-0.13)\n",
    "    ax.legend(plotdf.index)\n",
    "plt.show() "
   ]
  },
  {
   "cell_type": "markdown",
   "metadata": {},
   "source": [
    "### **2.3. Generate RFA status of the each donor before they are considered to be Lapsed Donor:** <a class=\"anchor\" id=\"1\"></a>\n",
    "Because all the donors which is investigated in this dataset is all Lapsed Donors as the date of the lasted promotion, so we will not able to undestand the 'Recency' charateristics if we only consider the most recent code of the donor (all 'Lapsed').  \n",
    "\n",
    "Therefore, we thought it would be interesting if we get the most recent type of code of each donor before they are considered to become Lapsed Donors\n",
    "\n",
    "We will consider the data in features **Donor's RFA status as of XXXX promotion date (XXXX is from 'RFA_3'to 'RFA_24')**"
   ]
  },
  {
   "cell_type": "code",
   "execution_count": 12,
   "metadata": {},
   "outputs": [
    {
     "output_type": "execute_result",
     "data": {
      "text/plain": [
       "         RFA_USEDTO_R RFA_USEDTO_F RFA_USEDTO_A\n",
       "CONTROLN                                       \n",
       "95515               S            4            E\n",
       "148535              A            2            G\n",
       "15078               S            4            E\n",
       "172556              S            4            E\n",
       "7112                A            2            F"
      ],
      "text/html": "<div>\n<style scoped>\n    .dataframe tbody tr th:only-of-type {\n        vertical-align: middle;\n    }\n\n    .dataframe tbody tr th {\n        vertical-align: top;\n    }\n\n    .dataframe thead th {\n        text-align: right;\n    }\n</style>\n<table border=\"1\" class=\"dataframe\">\n  <thead>\n    <tr style=\"text-align: right;\">\n      <th></th>\n      <th>RFA_USEDTO_R</th>\n      <th>RFA_USEDTO_F</th>\n      <th>RFA_USEDTO_A</th>\n    </tr>\n    <tr>\n      <th>CONTROLN</th>\n      <th></th>\n      <th></th>\n      <th></th>\n    </tr>\n  </thead>\n  <tbody>\n    <tr>\n      <th>95515</th>\n      <td>S</td>\n      <td>4</td>\n      <td>E</td>\n    </tr>\n    <tr>\n      <th>148535</th>\n      <td>A</td>\n      <td>2</td>\n      <td>G</td>\n    </tr>\n    <tr>\n      <th>15078</th>\n      <td>S</td>\n      <td>4</td>\n      <td>E</td>\n    </tr>\n    <tr>\n      <th>172556</th>\n      <td>S</td>\n      <td>4</td>\n      <td>E</td>\n    </tr>\n    <tr>\n      <th>7112</th>\n      <td>A</td>\n      <td>2</td>\n      <td>F</td>\n    </tr>\n  </tbody>\n</table>\n</div>"
     },
     "metadata": {},
     "execution_count": 12
    }
   ],
   "source": [
    "# Replace the blank values with NaN value\n",
    "df.loc[:,'RFA_3':'RFA_24'] = df.loc[:,'RFA_3':'RFA_24'].replace({' ' : np.NaN})\n",
    "# Find the second most recent type of a donor by the left-most available values from RFA_3 to RFA_24\n",
    "df['RFA_USEDTO'] = df.loc[:,'RFA_3':'RFA_24'].fillna(method = 'bfill',axis = 1)['RFA_3']\n",
    "# Renerate R, F, A features\n",
    "df['RFA_USEDTO_R'] = df['RFA_USEDTO'].apply(lambda x: str(x)[0])\n",
    "df['RFA_USEDTO_F'] = df['RFA_USEDTO'].apply(lambda x: str(x)[1])\n",
    "df['RFA_USEDTO_A'] = df['RFA_USEDTO'].apply(lambda x: str(x)[2])\n",
    "\n",
    "# Add to the selected features list\n",
    "feats = pd.DataFrame([['RFA_USEDTO_R', \"Recency code of the previous status of the donor\",\"Promotion and Gift\",\"\",\"x\" ],\n",
    "                    ['RFA_USEDTO_F', \"Frequency code of the previous status of the donor\",\"Promotion and Gift\",\"\",\"x\"], \n",
    "                    ['RFA_USEDTO_A', \"Amount code of the previous status of the donor\",\"Promotion and Gift\",\"\",\"x\"]],\n",
    "                    columns=features_list.columns)\n",
    "features_list= features_list.append(feats,ignore_index=True)\n",
    "\n",
    "# Now drop the features that is no longer useful\n",
    "df.drop(labels='RFA_USEDTO',axis=1,inplace = True, errors='ignore')\n",
    "# Check for the result\n",
    "df.loc[:,'RFA_USEDTO_R':'RFA_USEDTO_A'].head()"
   ]
  },
  {
   "cell_type": "code",
   "execution_count": 13,
   "metadata": {
    "scrolled": true
   },
   "outputs": [
    {
     "output_type": "execute_result",
     "data": {
      "text/plain": [
       "             ODATEDW OSOURCE  TCODE STATE    ZIP MAILCODE MDMAUD DOMAIN  \\\n",
       "CONTROLN                                                                  \n",
       "95515     2009-01-01     GRI      0    IL  61081            XXXX     T2   \n",
       "148535    2014-01-01     BOA      1    CA  91326            XXXX     S1   \n",
       "15078     2010-01-01     AMH      1    NC  27017            XXXX     R2   \n",
       "172556    2007-01-01     BRY      0    CA  95953            XXXX     R2   \n",
       "7112      2006-01-01              0    FL  33176            XXXX     S2   \n",
       "\n",
       "         HOMEOWNR CHILD03  ... RFA_2F RFA_2A MDMAUD_R  MDMAUD_F  MDMAUD_A  \\\n",
       "CONTROLN                   ...                                              \n",
       "95515                      ...      4      E        X         X         X   \n",
       "148535          H          ...      2      G        X         X         X   \n",
       "15078           U          ...      4      E        X         X         X   \n",
       "172556          U          ...      4      E        X         X         X   \n",
       "7112            H          ...      2      F        X         X         X   \n",
       "\n",
       "         GEOCODE2   AGE  RFA_USEDTO_R  RFA_USEDTO_F  RFA_USEDTO_A  \n",
       "CONTROLN                                                           \n",
       "95515           C  59.0             S             4             E  \n",
       "148535          A  45.0             A             2             G  \n",
       "15078           C   NaN             S             4             E  \n",
       "172556          C  69.0             S             4             E  \n",
       "7112            A  77.0             A             2             F  \n",
       "\n",
       "[5 rows x 158 columns]"
      ],
      "text/html": "<div>\n<style scoped>\n    .dataframe tbody tr th:only-of-type {\n        vertical-align: middle;\n    }\n\n    .dataframe tbody tr th {\n        vertical-align: top;\n    }\n\n    .dataframe thead th {\n        text-align: right;\n    }\n</style>\n<table border=\"1\" class=\"dataframe\">\n  <thead>\n    <tr style=\"text-align: right;\">\n      <th></th>\n      <th>ODATEDW</th>\n      <th>OSOURCE</th>\n      <th>TCODE</th>\n      <th>STATE</th>\n      <th>ZIP</th>\n      <th>MAILCODE</th>\n      <th>MDMAUD</th>\n      <th>DOMAIN</th>\n      <th>HOMEOWNR</th>\n      <th>CHILD03</th>\n      <th>...</th>\n      <th>RFA_2F</th>\n      <th>RFA_2A</th>\n      <th>MDMAUD_R</th>\n      <th>MDMAUD_F</th>\n      <th>MDMAUD_A</th>\n      <th>GEOCODE2</th>\n      <th>AGE</th>\n      <th>RFA_USEDTO_R</th>\n      <th>RFA_USEDTO_F</th>\n      <th>RFA_USEDTO_A</th>\n    </tr>\n    <tr>\n      <th>CONTROLN</th>\n      <th></th>\n      <th></th>\n      <th></th>\n      <th></th>\n      <th></th>\n      <th></th>\n      <th></th>\n      <th></th>\n      <th></th>\n      <th></th>\n      <th></th>\n      <th></th>\n      <th></th>\n      <th></th>\n      <th></th>\n      <th></th>\n      <th></th>\n      <th></th>\n      <th></th>\n      <th></th>\n      <th></th>\n    </tr>\n  </thead>\n  <tbody>\n    <tr>\n      <th>95515</th>\n      <td>2009-01-01</td>\n      <td>GRI</td>\n      <td>0</td>\n      <td>IL</td>\n      <td>61081</td>\n      <td></td>\n      <td>XXXX</td>\n      <td>T2</td>\n      <td></td>\n      <td></td>\n      <td>...</td>\n      <td>4</td>\n      <td>E</td>\n      <td>X</td>\n      <td>X</td>\n      <td>X</td>\n      <td>C</td>\n      <td>59.0</td>\n      <td>S</td>\n      <td>4</td>\n      <td>E</td>\n    </tr>\n    <tr>\n      <th>148535</th>\n      <td>2014-01-01</td>\n      <td>BOA</td>\n      <td>1</td>\n      <td>CA</td>\n      <td>91326</td>\n      <td></td>\n      <td>XXXX</td>\n      <td>S1</td>\n      <td>H</td>\n      <td></td>\n      <td>...</td>\n      <td>2</td>\n      <td>G</td>\n      <td>X</td>\n      <td>X</td>\n      <td>X</td>\n      <td>A</td>\n      <td>45.0</td>\n      <td>A</td>\n      <td>2</td>\n      <td>G</td>\n    </tr>\n    <tr>\n      <th>15078</th>\n      <td>2010-01-01</td>\n      <td>AMH</td>\n      <td>1</td>\n      <td>NC</td>\n      <td>27017</td>\n      <td></td>\n      <td>XXXX</td>\n      <td>R2</td>\n      <td>U</td>\n      <td></td>\n      <td>...</td>\n      <td>4</td>\n      <td>E</td>\n      <td>X</td>\n      <td>X</td>\n      <td>X</td>\n      <td>C</td>\n      <td>NaN</td>\n      <td>S</td>\n      <td>4</td>\n      <td>E</td>\n    </tr>\n    <tr>\n      <th>172556</th>\n      <td>2007-01-01</td>\n      <td>BRY</td>\n      <td>0</td>\n      <td>CA</td>\n      <td>95953</td>\n      <td></td>\n      <td>XXXX</td>\n      <td>R2</td>\n      <td>U</td>\n      <td></td>\n      <td>...</td>\n      <td>4</td>\n      <td>E</td>\n      <td>X</td>\n      <td>X</td>\n      <td>X</td>\n      <td>C</td>\n      <td>69.0</td>\n      <td>S</td>\n      <td>4</td>\n      <td>E</td>\n    </tr>\n    <tr>\n      <th>7112</th>\n      <td>2006-01-01</td>\n      <td></td>\n      <td>0</td>\n      <td>FL</td>\n      <td>33176</td>\n      <td></td>\n      <td>XXXX</td>\n      <td>S2</td>\n      <td>H</td>\n      <td></td>\n      <td>...</td>\n      <td>2</td>\n      <td>F</td>\n      <td>X</td>\n      <td>X</td>\n      <td>X</td>\n      <td>A</td>\n      <td>77.0</td>\n      <td>A</td>\n      <td>2</td>\n      <td>F</td>\n    </tr>\n  </tbody>\n</table>\n<p>5 rows × 158 columns</p>\n</div>"
     },
     "metadata": {},
     "execution_count": 13
    }
   ],
   "source": [
    "# Drop the RFA status of donor as they are no longer useful\n",
    "df.drop(labels=df.loc[:,'RFA_3':'RFA_24'].columns,axis=1,inplace=True,errors='ignore')\n",
    "df.head()"
   ]
  },
  {
   "cell_type": "code",
   "execution_count": 14,
   "metadata": {
    "scrolled": true
   },
   "outputs": [
    {
     "output_type": "execute_result",
     "data": {
      "text/plain": [
       "  FeaturesName                                    Description  \\\n",
       "0      ODATEDW        Origin Date. Date of donor's first gift   \n",
       "1      OSOURCE                                  Origin Source   \n",
       "2        TCODE                               Donor title code   \n",
       "3        STATE  State abbreviation (a nominal/symbolic field)   \n",
       "4          ZIP             Zipcode (a nominal/symbolic field)   \n",
       "\n",
       "          Category SubCategory Selected  \n",
       "0  Characteristics         NaN        x  \n",
       "1  Characteristics         NaN        x  \n",
       "2  Characteristics         NaN        x  \n",
       "3  Characteristics         NaN        x  \n",
       "4  Characteristics         NaN        x  "
      ],
      "text/html": "<div>\n<style scoped>\n    .dataframe tbody tr th:only-of-type {\n        vertical-align: middle;\n    }\n\n    .dataframe tbody tr th {\n        vertical-align: top;\n    }\n\n    .dataframe thead th {\n        text-align: right;\n    }\n</style>\n<table border=\"1\" class=\"dataframe\">\n  <thead>\n    <tr style=\"text-align: right;\">\n      <th></th>\n      <th>FeaturesName</th>\n      <th>Description</th>\n      <th>Category</th>\n      <th>SubCategory</th>\n      <th>Selected</th>\n    </tr>\n  </thead>\n  <tbody>\n    <tr>\n      <th>0</th>\n      <td>ODATEDW</td>\n      <td>Origin Date. Date of donor's first gift</td>\n      <td>Characteristics</td>\n      <td>NaN</td>\n      <td>x</td>\n    </tr>\n    <tr>\n      <th>1</th>\n      <td>OSOURCE</td>\n      <td>Origin Source</td>\n      <td>Characteristics</td>\n      <td>NaN</td>\n      <td>x</td>\n    </tr>\n    <tr>\n      <th>2</th>\n      <td>TCODE</td>\n      <td>Donor title code</td>\n      <td>Characteristics</td>\n      <td>NaN</td>\n      <td>x</td>\n    </tr>\n    <tr>\n      <th>3</th>\n      <td>STATE</td>\n      <td>State abbreviation (a nominal/symbolic field)</td>\n      <td>Characteristics</td>\n      <td>NaN</td>\n      <td>x</td>\n    </tr>\n    <tr>\n      <th>4</th>\n      <td>ZIP</td>\n      <td>Zipcode (a nominal/symbolic field)</td>\n      <td>Characteristics</td>\n      <td>NaN</td>\n      <td>x</td>\n    </tr>\n  </tbody>\n</table>\n</div>"
     },
     "metadata": {},
     "execution_count": 14
    }
   ],
   "source": [
    "selected_feats = features_list.loc[features_list['FeaturesName'].isin(df.columns),:]\n",
    "selected_feats.head()"
   ]
  },
  {
   "cell_type": "code",
   "execution_count": 15,
   "metadata": {},
   "outputs": [
    {
     "output_type": "execute_result",
     "data": {
      "text/plain": [
       "                    FeaturesName\n",
       "Category                        \n",
       "Characteristics               23\n",
       "Interests                     19\n",
       "Mail response                 14\n",
       "Neighborhood                  75\n",
       "Promotion and Gift            27"
      ],
      "text/html": "<div>\n<style scoped>\n    .dataframe tbody tr th:only-of-type {\n        vertical-align: middle;\n    }\n\n    .dataframe tbody tr th {\n        vertical-align: top;\n    }\n\n    .dataframe thead th {\n        text-align: right;\n    }\n</style>\n<table border=\"1\" class=\"dataframe\">\n  <thead>\n    <tr style=\"text-align: right;\">\n      <th></th>\n      <th>FeaturesName</th>\n    </tr>\n    <tr>\n      <th>Category</th>\n      <th></th>\n    </tr>\n  </thead>\n  <tbody>\n    <tr>\n      <th>Characteristics</th>\n      <td>23</td>\n    </tr>\n    <tr>\n      <th>Interests</th>\n      <td>19</td>\n    </tr>\n    <tr>\n      <th>Mail response</th>\n      <td>14</td>\n    </tr>\n    <tr>\n      <th>Neighborhood</th>\n      <td>75</td>\n    </tr>\n    <tr>\n      <th>Promotion and Gift</th>\n      <td>27</td>\n    </tr>\n  </tbody>\n</table>\n</div>"
     },
     "metadata": {},
     "execution_count": 15
    }
   ],
   "source": [
    "# Summary by category\n",
    "pd.DataFrame(selected_feats.groupby('Category')['FeaturesName'].count())"
   ]
  },
  {
   "cell_type": "markdown",
   "metadata": {},
   "source": [
    "# **3. Data cleanning:** <a class=\"anchor\" id=\"1\"></a>"
   ]
  },
  {
   "cell_type": "code",
   "execution_count": 16,
   "metadata": {
    "scrolled": false
   },
   "outputs": [
    {
     "output_type": "execute_result",
     "data": {
      "text/plain": [
       "             ODATEDW OSOURCE  TCODE STATE    ZIP MAILCODE MDMAUD DOMAIN  \\\n",
       "CONTROLN                                                                  \n",
       "95515     2009-01-01     GRI      0    IL  61081            XXXX     T2   \n",
       "148535    2014-01-01     BOA      1    CA  91326            XXXX     S1   \n",
       "15078     2010-01-01     AMH      1    NC  27017            XXXX     R2   \n",
       "172556    2007-01-01     BRY      0    CA  95953            XXXX     R2   \n",
       "7112      2006-01-01              0    FL  33176            XXXX     S2   \n",
       "...              ...     ...    ...   ...    ...      ...    ...    ...   \n",
       "184568    2016-01-01     ASE      1    AK  99504            XXXX     C2   \n",
       "122706    2016-01-01     DCD      1    TX  77379            XXXX     C1   \n",
       "189641    2015-01-01     MBC      1    MI  48910            XXXX     C3   \n",
       "4693      2006-01-01     PRV      0    CA  91320            XXXX     C1   \n",
       "185114    2008-01-01     MCC      2    NC  28409            C1CM     C1   \n",
       "\n",
       "         HOMEOWNR CHILD03  ... RFA_2F RFA_2A MDMAUD_R  MDMAUD_F  MDMAUD_A  \\\n",
       "CONTROLN                   ...                                              \n",
       "95515                      ...      4      E        X         X         X   \n",
       "148535          H          ...      2      G        X         X         X   \n",
       "15078           U          ...      4      E        X         X         X   \n",
       "172556          U          ...      4      E        X         X         X   \n",
       "7112            H          ...      2      F        X         X         X   \n",
       "...           ...     ...  ...    ...    ...      ...       ...       ...   \n",
       "184568                     ...      1      G        X         X         X   \n",
       "122706          H          ...      1      F        X         X         X   \n",
       "189641                     ...      3      E        X         X         X   \n",
       "4693            H          ...      4      F        X         X         X   \n",
       "185114          U          ...      1      G        C         1         C   \n",
       "\n",
       "         GEOCODE2   AGE  RFA_USEDTO_R  RFA_USEDTO_F  RFA_USEDTO_A  \n",
       "CONTROLN                                                           \n",
       "95515           C  59.0             S             4             E  \n",
       "148535          A  45.0             A             2             G  \n",
       "15078           C   NaN             S             4             E  \n",
       "172556          C  69.0             S             4             E  \n",
       "7112            A  77.0             A             2             F  \n",
       "...           ...   ...           ...           ...           ...  \n",
       "184568          C   NaN             F             1             G  \n",
       "122706          A  47.0             P             1             F  \n",
       "189641          B  59.0             S             4             E  \n",
       "4693            A  56.0             S             4             F  \n",
       "185114          C  79.0             A             1             G  \n",
       "\n",
       "[95412 rows x 158 columns]"
      ],
      "text/html": "<div>\n<style scoped>\n    .dataframe tbody tr th:only-of-type {\n        vertical-align: middle;\n    }\n\n    .dataframe tbody tr th {\n        vertical-align: top;\n    }\n\n    .dataframe thead th {\n        text-align: right;\n    }\n</style>\n<table border=\"1\" class=\"dataframe\">\n  <thead>\n    <tr style=\"text-align: right;\">\n      <th></th>\n      <th>ODATEDW</th>\n      <th>OSOURCE</th>\n      <th>TCODE</th>\n      <th>STATE</th>\n      <th>ZIP</th>\n      <th>MAILCODE</th>\n      <th>MDMAUD</th>\n      <th>DOMAIN</th>\n      <th>HOMEOWNR</th>\n      <th>CHILD03</th>\n      <th>...</th>\n      <th>RFA_2F</th>\n      <th>RFA_2A</th>\n      <th>MDMAUD_R</th>\n      <th>MDMAUD_F</th>\n      <th>MDMAUD_A</th>\n      <th>GEOCODE2</th>\n      <th>AGE</th>\n      <th>RFA_USEDTO_R</th>\n      <th>RFA_USEDTO_F</th>\n      <th>RFA_USEDTO_A</th>\n    </tr>\n    <tr>\n      <th>CONTROLN</th>\n      <th></th>\n      <th></th>\n      <th></th>\n      <th></th>\n      <th></th>\n      <th></th>\n      <th></th>\n      <th></th>\n      <th></th>\n      <th></th>\n      <th></th>\n      <th></th>\n      <th></th>\n      <th></th>\n      <th></th>\n      <th></th>\n      <th></th>\n      <th></th>\n      <th></th>\n      <th></th>\n      <th></th>\n    </tr>\n  </thead>\n  <tbody>\n    <tr>\n      <th>95515</th>\n      <td>2009-01-01</td>\n      <td>GRI</td>\n      <td>0</td>\n      <td>IL</td>\n      <td>61081</td>\n      <td></td>\n      <td>XXXX</td>\n      <td>T2</td>\n      <td></td>\n      <td></td>\n      <td>...</td>\n      <td>4</td>\n      <td>E</td>\n      <td>X</td>\n      <td>X</td>\n      <td>X</td>\n      <td>C</td>\n      <td>59.0</td>\n      <td>S</td>\n      <td>4</td>\n      <td>E</td>\n    </tr>\n    <tr>\n      <th>148535</th>\n      <td>2014-01-01</td>\n      <td>BOA</td>\n      <td>1</td>\n      <td>CA</td>\n      <td>91326</td>\n      <td></td>\n      <td>XXXX</td>\n      <td>S1</td>\n      <td>H</td>\n      <td></td>\n      <td>...</td>\n      <td>2</td>\n      <td>G</td>\n      <td>X</td>\n      <td>X</td>\n      <td>X</td>\n      <td>A</td>\n      <td>45.0</td>\n      <td>A</td>\n      <td>2</td>\n      <td>G</td>\n    </tr>\n    <tr>\n      <th>15078</th>\n      <td>2010-01-01</td>\n      <td>AMH</td>\n      <td>1</td>\n      <td>NC</td>\n      <td>27017</td>\n      <td></td>\n      <td>XXXX</td>\n      <td>R2</td>\n      <td>U</td>\n      <td></td>\n      <td>...</td>\n      <td>4</td>\n      <td>E</td>\n      <td>X</td>\n      <td>X</td>\n      <td>X</td>\n      <td>C</td>\n      <td>NaN</td>\n      <td>S</td>\n      <td>4</td>\n      <td>E</td>\n    </tr>\n    <tr>\n      <th>172556</th>\n      <td>2007-01-01</td>\n      <td>BRY</td>\n      <td>0</td>\n      <td>CA</td>\n      <td>95953</td>\n      <td></td>\n      <td>XXXX</td>\n      <td>R2</td>\n      <td>U</td>\n      <td></td>\n      <td>...</td>\n      <td>4</td>\n      <td>E</td>\n      <td>X</td>\n      <td>X</td>\n      <td>X</td>\n      <td>C</td>\n      <td>69.0</td>\n      <td>S</td>\n      <td>4</td>\n      <td>E</td>\n    </tr>\n    <tr>\n      <th>7112</th>\n      <td>2006-01-01</td>\n      <td></td>\n      <td>0</td>\n      <td>FL</td>\n      <td>33176</td>\n      <td></td>\n      <td>XXXX</td>\n      <td>S2</td>\n      <td>H</td>\n      <td></td>\n      <td>...</td>\n      <td>2</td>\n      <td>F</td>\n      <td>X</td>\n      <td>X</td>\n      <td>X</td>\n      <td>A</td>\n      <td>77.0</td>\n      <td>A</td>\n      <td>2</td>\n      <td>F</td>\n    </tr>\n    <tr>\n      <th>...</th>\n      <td>...</td>\n      <td>...</td>\n      <td>...</td>\n      <td>...</td>\n      <td>...</td>\n      <td>...</td>\n      <td>...</td>\n      <td>...</td>\n      <td>...</td>\n      <td>...</td>\n      <td>...</td>\n      <td>...</td>\n      <td>...</td>\n      <td>...</td>\n      <td>...</td>\n      <td>...</td>\n      <td>...</td>\n      <td>...</td>\n      <td>...</td>\n      <td>...</td>\n      <td>...</td>\n    </tr>\n    <tr>\n      <th>184568</th>\n      <td>2016-01-01</td>\n      <td>ASE</td>\n      <td>1</td>\n      <td>AK</td>\n      <td>99504</td>\n      <td></td>\n      <td>XXXX</td>\n      <td>C2</td>\n      <td></td>\n      <td></td>\n      <td>...</td>\n      <td>1</td>\n      <td>G</td>\n      <td>X</td>\n      <td>X</td>\n      <td>X</td>\n      <td>C</td>\n      <td>NaN</td>\n      <td>F</td>\n      <td>1</td>\n      <td>G</td>\n    </tr>\n    <tr>\n      <th>122706</th>\n      <td>2016-01-01</td>\n      <td>DCD</td>\n      <td>1</td>\n      <td>TX</td>\n      <td>77379</td>\n      <td></td>\n      <td>XXXX</td>\n      <td>C1</td>\n      <td>H</td>\n      <td></td>\n      <td>...</td>\n      <td>1</td>\n      <td>F</td>\n      <td>X</td>\n      <td>X</td>\n      <td>X</td>\n      <td>A</td>\n      <td>47.0</td>\n      <td>P</td>\n      <td>1</td>\n      <td>F</td>\n    </tr>\n    <tr>\n      <th>189641</th>\n      <td>2015-01-01</td>\n      <td>MBC</td>\n      <td>1</td>\n      <td>MI</td>\n      <td>48910</td>\n      <td></td>\n      <td>XXXX</td>\n      <td>C3</td>\n      <td></td>\n      <td></td>\n      <td>...</td>\n      <td>3</td>\n      <td>E</td>\n      <td>X</td>\n      <td>X</td>\n      <td>X</td>\n      <td>B</td>\n      <td>59.0</td>\n      <td>S</td>\n      <td>4</td>\n      <td>E</td>\n    </tr>\n    <tr>\n      <th>4693</th>\n      <td>2006-01-01</td>\n      <td>PRV</td>\n      <td>0</td>\n      <td>CA</td>\n      <td>91320</td>\n      <td></td>\n      <td>XXXX</td>\n      <td>C1</td>\n      <td>H</td>\n      <td></td>\n      <td>...</td>\n      <td>4</td>\n      <td>F</td>\n      <td>X</td>\n      <td>X</td>\n      <td>X</td>\n      <td>A</td>\n      <td>56.0</td>\n      <td>S</td>\n      <td>4</td>\n      <td>F</td>\n    </tr>\n    <tr>\n      <th>185114</th>\n      <td>2008-01-01</td>\n      <td>MCC</td>\n      <td>2</td>\n      <td>NC</td>\n      <td>28409</td>\n      <td></td>\n      <td>C1CM</td>\n      <td>C1</td>\n      <td>U</td>\n      <td></td>\n      <td>...</td>\n      <td>1</td>\n      <td>G</td>\n      <td>C</td>\n      <td>1</td>\n      <td>C</td>\n      <td>C</td>\n      <td>79.0</td>\n      <td>A</td>\n      <td>1</td>\n      <td>G</td>\n    </tr>\n  </tbody>\n</table>\n<p>95412 rows × 158 columns</p>\n</div>"
     },
     "metadata": {},
     "execution_count": 16
    }
   ],
   "source": [
    "df"
   ]
  },
  {
   "cell_type": "markdown",
   "metadata": {},
   "source": [
    "## 3.1. Check for features interpretability:\n",
    "In this section, we will access the ability to interpret the feature based on its description, number of unique values and nulls values.  \n",
    "We also try to engineer some features for better interpretation"
   ]
  },
  {
   "cell_type": "markdown",
   "metadata": {},
   "source": [
    "### 3.1.1. Characteristics features:"
   ]
  },
  {
   "cell_type": "code",
   "execution_count": 17,
   "metadata": {},
   "outputs": [
    {
     "output_type": "execute_result",
     "data": {
      "text/plain": [
       "    FeaturesName                                        Description  \\\n",
       "0        ODATEDW            Origin Date. Date of donor's first gift   \n",
       "1        OSOURCE                                      Origin Source   \n",
       "2          TCODE                                   Donor title code   \n",
       "3          STATE      State abbreviation (a nominal/symbolic field)   \n",
       "4            ZIP                 Zipcode (a nominal/symbolic field)   \n",
       "5       MAILCODE                                          Mail Code   \n",
       "13        MDMAUD                        The Major Donor Matrix code   \n",
       "14        DOMAIN  DOMAIN/Cluster code. A nominal or symbolic field.   \n",
       "15      HOMEOWNR                                    Home Owner Flag   \n",
       "16       CHILD03                       Presence of Children age 0-3   \n",
       "17       CHILD07                       Presence of Childern age 4-7   \n",
       "18       CHILD12                      Presence of Childern age 8-12   \n",
       "19       CHILD18                     Presence of Childern age 13-18   \n",
       "20       NUMCHLD                                 NUMBER OF CHILDREN   \n",
       "21        INCOME                                   HOUSEHOLD INCOME   \n",
       "22        GENDER                                             Gender   \n",
       "23       WEALTH1                                      Wealth Rating   \n",
       "24           HIT               MOR Flag # HIT (Mail Order Response)   \n",
       "49         MAJOR                              Major ($$) Donor Flag   \n",
       "50       WEALTH2                                      Wealth Rating   \n",
       "51       GEOCODE  Geo Cluster Code indicating the level geograph...   \n",
       "474     GEOCODE2                                   County Size Code   \n",
       "475          AGE                                   Age of the donor   \n",
       "\n",
       "            Category SubCategory Selected  \n",
       "0    Characteristics         NaN        x  \n",
       "1    Characteristics         NaN        x  \n",
       "2    Characteristics         NaN        x  \n",
       "3    Characteristics         NaN        x  \n",
       "4    Characteristics         NaN        x  \n",
       "5    Characteristics         NaN        x  \n",
       "13   Characteristics         NaN        x  \n",
       "14   Characteristics         NaN        x  \n",
       "15   Characteristics         NaN        x  \n",
       "16   Characteristics         NaN        x  \n",
       "17   Characteristics         NaN        x  \n",
       "18   Characteristics         NaN        x  \n",
       "19   Characteristics         NaN        x  \n",
       "20   Characteristics         NaN        x  \n",
       "21   Characteristics         NaN        x  \n",
       "22   Characteristics         NaN        x  \n",
       "23   Characteristics         NaN        x  \n",
       "24   Characteristics         NaN        x  \n",
       "49   Characteristics         NaN        x  \n",
       "50   Characteristics         NaN        x  \n",
       "51   Characteristics         NaN        x  \n",
       "474  Characteristics         NaN        x  \n",
       "475  Characteristics                    x  "
      ],
      "text/html": "<div>\n<style scoped>\n    .dataframe tbody tr th:only-of-type {\n        vertical-align: middle;\n    }\n\n    .dataframe tbody tr th {\n        vertical-align: top;\n    }\n\n    .dataframe thead th {\n        text-align: right;\n    }\n</style>\n<table border=\"1\" class=\"dataframe\">\n  <thead>\n    <tr style=\"text-align: right;\">\n      <th></th>\n      <th>FeaturesName</th>\n      <th>Description</th>\n      <th>Category</th>\n      <th>SubCategory</th>\n      <th>Selected</th>\n    </tr>\n  </thead>\n  <tbody>\n    <tr>\n      <th>0</th>\n      <td>ODATEDW</td>\n      <td>Origin Date. Date of donor's first gift</td>\n      <td>Characteristics</td>\n      <td>NaN</td>\n      <td>x</td>\n    </tr>\n    <tr>\n      <th>1</th>\n      <td>OSOURCE</td>\n      <td>Origin Source</td>\n      <td>Characteristics</td>\n      <td>NaN</td>\n      <td>x</td>\n    </tr>\n    <tr>\n      <th>2</th>\n      <td>TCODE</td>\n      <td>Donor title code</td>\n      <td>Characteristics</td>\n      <td>NaN</td>\n      <td>x</td>\n    </tr>\n    <tr>\n      <th>3</th>\n      <td>STATE</td>\n      <td>State abbreviation (a nominal/symbolic field)</td>\n      <td>Characteristics</td>\n      <td>NaN</td>\n      <td>x</td>\n    </tr>\n    <tr>\n      <th>4</th>\n      <td>ZIP</td>\n      <td>Zipcode (a nominal/symbolic field)</td>\n      <td>Characteristics</td>\n      <td>NaN</td>\n      <td>x</td>\n    </tr>\n    <tr>\n      <th>5</th>\n      <td>MAILCODE</td>\n      <td>Mail Code</td>\n      <td>Characteristics</td>\n      <td>NaN</td>\n      <td>x</td>\n    </tr>\n    <tr>\n      <th>13</th>\n      <td>MDMAUD</td>\n      <td>The Major Donor Matrix code</td>\n      <td>Characteristics</td>\n      <td>NaN</td>\n      <td>x</td>\n    </tr>\n    <tr>\n      <th>14</th>\n      <td>DOMAIN</td>\n      <td>DOMAIN/Cluster code. A nominal or symbolic field.</td>\n      <td>Characteristics</td>\n      <td>NaN</td>\n      <td>x</td>\n    </tr>\n    <tr>\n      <th>15</th>\n      <td>HOMEOWNR</td>\n      <td>Home Owner Flag</td>\n      <td>Characteristics</td>\n      <td>NaN</td>\n      <td>x</td>\n    </tr>\n    <tr>\n      <th>16</th>\n      <td>CHILD03</td>\n      <td>Presence of Children age 0-3</td>\n      <td>Characteristics</td>\n      <td>NaN</td>\n      <td>x</td>\n    </tr>\n    <tr>\n      <th>17</th>\n      <td>CHILD07</td>\n      <td>Presence of Childern age 4-7</td>\n      <td>Characteristics</td>\n      <td>NaN</td>\n      <td>x</td>\n    </tr>\n    <tr>\n      <th>18</th>\n      <td>CHILD12</td>\n      <td>Presence of Childern age 8-12</td>\n      <td>Characteristics</td>\n      <td>NaN</td>\n      <td>x</td>\n    </tr>\n    <tr>\n      <th>19</th>\n      <td>CHILD18</td>\n      <td>Presence of Childern age 13-18</td>\n      <td>Characteristics</td>\n      <td>NaN</td>\n      <td>x</td>\n    </tr>\n    <tr>\n      <th>20</th>\n      <td>NUMCHLD</td>\n      <td>NUMBER OF CHILDREN</td>\n      <td>Characteristics</td>\n      <td>NaN</td>\n      <td>x</td>\n    </tr>\n    <tr>\n      <th>21</th>\n      <td>INCOME</td>\n      <td>HOUSEHOLD INCOME</td>\n      <td>Characteristics</td>\n      <td>NaN</td>\n      <td>x</td>\n    </tr>\n    <tr>\n      <th>22</th>\n      <td>GENDER</td>\n      <td>Gender</td>\n      <td>Characteristics</td>\n      <td>NaN</td>\n      <td>x</td>\n    </tr>\n    <tr>\n      <th>23</th>\n      <td>WEALTH1</td>\n      <td>Wealth Rating</td>\n      <td>Characteristics</td>\n      <td>NaN</td>\n      <td>x</td>\n    </tr>\n    <tr>\n      <th>24</th>\n      <td>HIT</td>\n      <td>MOR Flag # HIT (Mail Order Response)</td>\n      <td>Characteristics</td>\n      <td>NaN</td>\n      <td>x</td>\n    </tr>\n    <tr>\n      <th>49</th>\n      <td>MAJOR</td>\n      <td>Major ($$) Donor Flag</td>\n      <td>Characteristics</td>\n      <td>NaN</td>\n      <td>x</td>\n    </tr>\n    <tr>\n      <th>50</th>\n      <td>WEALTH2</td>\n      <td>Wealth Rating</td>\n      <td>Characteristics</td>\n      <td>NaN</td>\n      <td>x</td>\n    </tr>\n    <tr>\n      <th>51</th>\n      <td>GEOCODE</td>\n      <td>Geo Cluster Code indicating the level geograph...</td>\n      <td>Characteristics</td>\n      <td>NaN</td>\n      <td>x</td>\n    </tr>\n    <tr>\n      <th>474</th>\n      <td>GEOCODE2</td>\n      <td>County Size Code</td>\n      <td>Characteristics</td>\n      <td>NaN</td>\n      <td>x</td>\n    </tr>\n    <tr>\n      <th>475</th>\n      <td>AGE</td>\n      <td>Age of the donor</td>\n      <td>Characteristics</td>\n      <td></td>\n      <td>x</td>\n    </tr>\n  </tbody>\n</table>\n</div>"
     },
     "metadata": {},
     "execution_count": 17
    }
   ],
   "source": [
    "selected_feats[selected_feats['Category'] == 'Characteristics']"
   ]
  },
  {
   "cell_type": "code",
   "execution_count": 18,
   "metadata": {},
   "outputs": [],
   "source": [
    "char_feats = selected_feats[selected_feats['Category'] == 'Characteristics']['FeaturesName']"
   ]
  },
  {
   "cell_type": "code",
   "execution_count": 19,
   "metadata": {},
   "outputs": [
    {
     "output_type": "execute_result",
     "data": {
      "text/plain": [
       "             ODATEDW OSOURCE  TCODE STATE    ZIP MAILCODE MDMAUD DOMAIN  \\\n",
       "CONTROLN                                                                  \n",
       "95515     2009-01-01     GRI      0    IL  61081            XXXX     T2   \n",
       "148535    2014-01-01     BOA      1    CA  91326            XXXX     S1   \n",
       "15078     2010-01-01     AMH      1    NC  27017            XXXX     R2   \n",
       "172556    2007-01-01     BRY      0    CA  95953            XXXX     R2   \n",
       "7112      2006-01-01              0    FL  33176            XXXX     S2   \n",
       "...              ...     ...    ...   ...    ...      ...    ...    ...   \n",
       "184568    2016-01-01     ASE      1    AK  99504            XXXX     C2   \n",
       "122706    2016-01-01     DCD      1    TX  77379            XXXX     C1   \n",
       "189641    2015-01-01     MBC      1    MI  48910            XXXX     C3   \n",
       "4693      2006-01-01     PRV      0    CA  91320            XXXX     C1   \n",
       "185114    2008-01-01     MCC      2    NC  28409            C1CM     C1   \n",
       "\n",
       "         HOMEOWNR CHILD03  ... NUMCHLD INCOME GENDER  WEALTH1  HIT MAJOR  \\\n",
       "CONTROLN                   ...                                             \n",
       "95515                      ...     NaN    NaN      F      NaN    0         \n",
       "148535          H          ...     1.0    6.0      M      9.0   16         \n",
       "15078           U          ...     NaN    3.0      M      1.0    2         \n",
       "172556          U          ...     NaN    1.0      F      4.0    2         \n",
       "7112            H          ...     1.0    3.0      F      2.0   60         \n",
       "...           ...     ...  ...     ...    ...    ...      ...  ...   ...   \n",
       "184568                     ...     NaN    NaN      M      NaN    0         \n",
       "122706          H          ...     1.0    7.0      M      9.0    1         \n",
       "189641                     ...     NaN    NaN      M      NaN    0         \n",
       "4693            H          ...     NaN    7.0      F      NaN    0         \n",
       "185114          U          ...     NaN    5.0      F      8.0    3     X   \n",
       "\n",
       "          WEALTH2  GEOCODE GEOCODE2   AGE  \n",
       "CONTROLN                                   \n",
       "95515         5.0                 C  59.0  \n",
       "148535        9.0       02        A  45.0  \n",
       "15078         1.0                 C   NaN  \n",
       "172556        0.0                 C  69.0  \n",
       "7112          NaN                 A  77.0  \n",
       "...           ...      ...      ...   ...  \n",
       "184568        NaN                 C   NaN  \n",
       "122706        NaN                 A  47.0  \n",
       "189641        NaN                 B  59.0  \n",
       "4693          7.0       04        A  56.0  \n",
       "185114        8.0       03        C  79.0  \n",
       "\n",
       "[95412 rows x 23 columns]"
      ],
      "text/html": "<div>\n<style scoped>\n    .dataframe tbody tr th:only-of-type {\n        vertical-align: middle;\n    }\n\n    .dataframe tbody tr th {\n        vertical-align: top;\n    }\n\n    .dataframe thead th {\n        text-align: right;\n    }\n</style>\n<table border=\"1\" class=\"dataframe\">\n  <thead>\n    <tr style=\"text-align: right;\">\n      <th></th>\n      <th>ODATEDW</th>\n      <th>OSOURCE</th>\n      <th>TCODE</th>\n      <th>STATE</th>\n      <th>ZIP</th>\n      <th>MAILCODE</th>\n      <th>MDMAUD</th>\n      <th>DOMAIN</th>\n      <th>HOMEOWNR</th>\n      <th>CHILD03</th>\n      <th>...</th>\n      <th>NUMCHLD</th>\n      <th>INCOME</th>\n      <th>GENDER</th>\n      <th>WEALTH1</th>\n      <th>HIT</th>\n      <th>MAJOR</th>\n      <th>WEALTH2</th>\n      <th>GEOCODE</th>\n      <th>GEOCODE2</th>\n      <th>AGE</th>\n    </tr>\n    <tr>\n      <th>CONTROLN</th>\n      <th></th>\n      <th></th>\n      <th></th>\n      <th></th>\n      <th></th>\n      <th></th>\n      <th></th>\n      <th></th>\n      <th></th>\n      <th></th>\n      <th></th>\n      <th></th>\n      <th></th>\n      <th></th>\n      <th></th>\n      <th></th>\n      <th></th>\n      <th></th>\n      <th></th>\n      <th></th>\n      <th></th>\n    </tr>\n  </thead>\n  <tbody>\n    <tr>\n      <th>95515</th>\n      <td>2009-01-01</td>\n      <td>GRI</td>\n      <td>0</td>\n      <td>IL</td>\n      <td>61081</td>\n      <td></td>\n      <td>XXXX</td>\n      <td>T2</td>\n      <td></td>\n      <td></td>\n      <td>...</td>\n      <td>NaN</td>\n      <td>NaN</td>\n      <td>F</td>\n      <td>NaN</td>\n      <td>0</td>\n      <td></td>\n      <td>5.0</td>\n      <td></td>\n      <td>C</td>\n      <td>59.0</td>\n    </tr>\n    <tr>\n      <th>148535</th>\n      <td>2014-01-01</td>\n      <td>BOA</td>\n      <td>1</td>\n      <td>CA</td>\n      <td>91326</td>\n      <td></td>\n      <td>XXXX</td>\n      <td>S1</td>\n      <td>H</td>\n      <td></td>\n      <td>...</td>\n      <td>1.0</td>\n      <td>6.0</td>\n      <td>M</td>\n      <td>9.0</td>\n      <td>16</td>\n      <td></td>\n      <td>9.0</td>\n      <td>02</td>\n      <td>A</td>\n      <td>45.0</td>\n    </tr>\n    <tr>\n      <th>15078</th>\n      <td>2010-01-01</td>\n      <td>AMH</td>\n      <td>1</td>\n      <td>NC</td>\n      <td>27017</td>\n      <td></td>\n      <td>XXXX</td>\n      <td>R2</td>\n      <td>U</td>\n      <td></td>\n      <td>...</td>\n      <td>NaN</td>\n      <td>3.0</td>\n      <td>M</td>\n      <td>1.0</td>\n      <td>2</td>\n      <td></td>\n      <td>1.0</td>\n      <td></td>\n      <td>C</td>\n      <td>NaN</td>\n    </tr>\n    <tr>\n      <th>172556</th>\n      <td>2007-01-01</td>\n      <td>BRY</td>\n      <td>0</td>\n      <td>CA</td>\n      <td>95953</td>\n      <td></td>\n      <td>XXXX</td>\n      <td>R2</td>\n      <td>U</td>\n      <td></td>\n      <td>...</td>\n      <td>NaN</td>\n      <td>1.0</td>\n      <td>F</td>\n      <td>4.0</td>\n      <td>2</td>\n      <td></td>\n      <td>0.0</td>\n      <td></td>\n      <td>C</td>\n      <td>69.0</td>\n    </tr>\n    <tr>\n      <th>7112</th>\n      <td>2006-01-01</td>\n      <td></td>\n      <td>0</td>\n      <td>FL</td>\n      <td>33176</td>\n      <td></td>\n      <td>XXXX</td>\n      <td>S2</td>\n      <td>H</td>\n      <td></td>\n      <td>...</td>\n      <td>1.0</td>\n      <td>3.0</td>\n      <td>F</td>\n      <td>2.0</td>\n      <td>60</td>\n      <td></td>\n      <td>NaN</td>\n      <td></td>\n      <td>A</td>\n      <td>77.0</td>\n    </tr>\n    <tr>\n      <th>...</th>\n      <td>...</td>\n      <td>...</td>\n      <td>...</td>\n      <td>...</td>\n      <td>...</td>\n      <td>...</td>\n      <td>...</td>\n      <td>...</td>\n      <td>...</td>\n      <td>...</td>\n      <td>...</td>\n      <td>...</td>\n      <td>...</td>\n      <td>...</td>\n      <td>...</td>\n      <td>...</td>\n      <td>...</td>\n      <td>...</td>\n      <td>...</td>\n      <td>...</td>\n      <td>...</td>\n    </tr>\n    <tr>\n      <th>184568</th>\n      <td>2016-01-01</td>\n      <td>ASE</td>\n      <td>1</td>\n      <td>AK</td>\n      <td>99504</td>\n      <td></td>\n      <td>XXXX</td>\n      <td>C2</td>\n      <td></td>\n      <td></td>\n      <td>...</td>\n      <td>NaN</td>\n      <td>NaN</td>\n      <td>M</td>\n      <td>NaN</td>\n      <td>0</td>\n      <td></td>\n      <td>NaN</td>\n      <td></td>\n      <td>C</td>\n      <td>NaN</td>\n    </tr>\n    <tr>\n      <th>122706</th>\n      <td>2016-01-01</td>\n      <td>DCD</td>\n      <td>1</td>\n      <td>TX</td>\n      <td>77379</td>\n      <td></td>\n      <td>XXXX</td>\n      <td>C1</td>\n      <td>H</td>\n      <td></td>\n      <td>...</td>\n      <td>1.0</td>\n      <td>7.0</td>\n      <td>M</td>\n      <td>9.0</td>\n      <td>1</td>\n      <td></td>\n      <td>NaN</td>\n      <td></td>\n      <td>A</td>\n      <td>47.0</td>\n    </tr>\n    <tr>\n      <th>189641</th>\n      <td>2015-01-01</td>\n      <td>MBC</td>\n      <td>1</td>\n      <td>MI</td>\n      <td>48910</td>\n      <td></td>\n      <td>XXXX</td>\n      <td>C3</td>\n      <td></td>\n      <td></td>\n      <td>...</td>\n      <td>NaN</td>\n      <td>NaN</td>\n      <td>M</td>\n      <td>NaN</td>\n      <td>0</td>\n      <td></td>\n      <td>NaN</td>\n      <td></td>\n      <td>B</td>\n      <td>59.0</td>\n    </tr>\n    <tr>\n      <th>4693</th>\n      <td>2006-01-01</td>\n      <td>PRV</td>\n      <td>0</td>\n      <td>CA</td>\n      <td>91320</td>\n      <td></td>\n      <td>XXXX</td>\n      <td>C1</td>\n      <td>H</td>\n      <td></td>\n      <td>...</td>\n      <td>NaN</td>\n      <td>7.0</td>\n      <td>F</td>\n      <td>NaN</td>\n      <td>0</td>\n      <td></td>\n      <td>7.0</td>\n      <td>04</td>\n      <td>A</td>\n      <td>56.0</td>\n    </tr>\n    <tr>\n      <th>185114</th>\n      <td>2008-01-01</td>\n      <td>MCC</td>\n      <td>2</td>\n      <td>NC</td>\n      <td>28409</td>\n      <td></td>\n      <td>C1CM</td>\n      <td>C1</td>\n      <td>U</td>\n      <td></td>\n      <td>...</td>\n      <td>NaN</td>\n      <td>5.0</td>\n      <td>F</td>\n      <td>8.0</td>\n      <td>3</td>\n      <td>X</td>\n      <td>8.0</td>\n      <td>03</td>\n      <td>C</td>\n      <td>79.0</td>\n    </tr>\n  </tbody>\n</table>\n<p>95412 rows × 23 columns</p>\n</div>"
     },
     "metadata": {},
     "execution_count": 19
    }
   ],
   "source": [
    "df[char_feats]"
   ]
  },
  {
   "cell_type": "markdown",
   "metadata": {},
   "source": [
    "**a) Feature engineering:**"
   ]
  },
  {
   "cell_type": "markdown",
   "metadata": {},
   "source": [
    "There are some columns contain missing values but in different type of format rather than NaN format. Thus, in this section, we will replace them with numpy.NaN values for better processing:"
   ]
  },
  {
   "cell_type": "code",
   "execution_count": 20,
   "metadata": {},
   "outputs": [
    {
     "output_type": "execute_result",
     "data": {
      "text/plain": [
       "ODATEDW         0\n",
       "OSOURCE       928\n",
       "TCODE           0\n",
       "STATE           0\n",
       "ZIP             0\n",
       "MAILCODE    94013\n",
       "MDMAUD          0\n",
       "DOMAIN       2316\n",
       "HOMEOWNR    22228\n",
       "CHILD03     94266\n",
       "CHILD07     93846\n",
       "CHILD12     93601\n",
       "CHILD18     92565\n",
       "NUMCHLD         0\n",
       "INCOME          0\n",
       "GENDER       2957\n",
       "WEALTH1         0\n",
       "HIT             0\n",
       "MAJOR       95118\n",
       "WEALTH2         0\n",
       "GEOCODE     80168\n",
       "GEOCODE2      187\n",
       "AGE             0\n",
       "dtype: int64"
      ]
     },
     "metadata": {},
     "execution_count": 20
    }
   ],
   "source": [
    "df[char_feats].isin([' ']).sum(axis = 0)"
   ]
  },
  {
   "cell_type": "code",
   "execution_count": 21,
   "metadata": {},
   "outputs": [],
   "source": [
    "# Except for MAILCODE where ' ' is actually a value, we will replace all other ' ' values as NaN\n",
    "for col in df[char_feats].isin([' ']).sum(axis = 0).index:\n",
    "    if col == 'MAILCODE':\n",
    "        next\n",
    "    else:\n",
    "        df[col] = df[col].replace(' ', np.NaN)"
   ]
  },
  {
   "cell_type": "code",
   "execution_count": 22,
   "metadata": {},
   "outputs": [
    {
     "output_type": "stream",
     "name": "stdout",
     "text": [
      "['F' 'M' nan 'C' 'U' 'J' 'A']\n['F' 'M' nan 'U' 'J']\n"
     ]
    }
   ],
   "source": [
    "#checking all the values for the Gender\n",
    "#M = Male\n",
    "#F = Female\n",
    "#U = Unknown\n",
    "#J = Joint Account\n",
    "print(df['GENDER'].unique())\n",
    "\n",
    "#replacing unknown values to 'U'\n",
    "df['GENDER'].replace(' ','U',inplace=True)\n",
    "df['GENDER'].replace('A','U',inplace=True)\n",
    "df['GENDER'].replace('C','U',inplace=True)\n",
    "\n",
    "#checking the difference\n",
    "print(df['GENDER'].unique())"
   ]
  },
  {
   "cell_type": "markdown",
   "metadata": {},
   "source": [
    "**b) Check for unique values:**"
   ]
  },
  {
   "cell_type": "code",
   "execution_count": 23,
   "metadata": {
    "scrolled": true
   },
   "outputs": [
    {
     "output_type": "execute_result",
     "data": {
      "text/plain": [
       "           ODATEDW OSOURCE  STATE    ZIP MAILCODE MDMAUD DOMAIN HOMEOWNR  \\\n",
       "count        95412   94484  95412  95412    95412  95412  93096    73184   \n",
       "unique          54     895     57  19938        2     28     16        2   \n",
       "top     2015-01-01     MBC     CA  85351            XXXX     R2        H   \n",
       "freq         15358    4539  17343     61    94013  95118  13623    52354   \n",
       "\n",
       "       CHILD03 CHILD07 CHILD12 CHILD18 GENDER MAJOR GEOCODE GEOCODE2  \n",
       "count     1146    1566    1811    2847  92455   294   15244    95093  \n",
       "unique       3       3       3       3      4     1       7        4  \n",
       "top          M       M       M       M      F     X      12        A  \n",
       "freq       869    1061    1149    1442  51277   294    3914    34484  "
      ],
      "text/html": "<div>\n<style scoped>\n    .dataframe tbody tr th:only-of-type {\n        vertical-align: middle;\n    }\n\n    .dataframe tbody tr th {\n        vertical-align: top;\n    }\n\n    .dataframe thead th {\n        text-align: right;\n    }\n</style>\n<table border=\"1\" class=\"dataframe\">\n  <thead>\n    <tr style=\"text-align: right;\">\n      <th></th>\n      <th>ODATEDW</th>\n      <th>OSOURCE</th>\n      <th>STATE</th>\n      <th>ZIP</th>\n      <th>MAILCODE</th>\n      <th>MDMAUD</th>\n      <th>DOMAIN</th>\n      <th>HOMEOWNR</th>\n      <th>CHILD03</th>\n      <th>CHILD07</th>\n      <th>CHILD12</th>\n      <th>CHILD18</th>\n      <th>GENDER</th>\n      <th>MAJOR</th>\n      <th>GEOCODE</th>\n      <th>GEOCODE2</th>\n    </tr>\n  </thead>\n  <tbody>\n    <tr>\n      <th>count</th>\n      <td>95412</td>\n      <td>94484</td>\n      <td>95412</td>\n      <td>95412</td>\n      <td>95412</td>\n      <td>95412</td>\n      <td>93096</td>\n      <td>73184</td>\n      <td>1146</td>\n      <td>1566</td>\n      <td>1811</td>\n      <td>2847</td>\n      <td>92455</td>\n      <td>294</td>\n      <td>15244</td>\n      <td>95093</td>\n    </tr>\n    <tr>\n      <th>unique</th>\n      <td>54</td>\n      <td>895</td>\n      <td>57</td>\n      <td>19938</td>\n      <td>2</td>\n      <td>28</td>\n      <td>16</td>\n      <td>2</td>\n      <td>3</td>\n      <td>3</td>\n      <td>3</td>\n      <td>3</td>\n      <td>4</td>\n      <td>1</td>\n      <td>7</td>\n      <td>4</td>\n    </tr>\n    <tr>\n      <th>top</th>\n      <td>2015-01-01</td>\n      <td>MBC</td>\n      <td>CA</td>\n      <td>85351</td>\n      <td></td>\n      <td>XXXX</td>\n      <td>R2</td>\n      <td>H</td>\n      <td>M</td>\n      <td>M</td>\n      <td>M</td>\n      <td>M</td>\n      <td>F</td>\n      <td>X</td>\n      <td>12</td>\n      <td>A</td>\n    </tr>\n    <tr>\n      <th>freq</th>\n      <td>15358</td>\n      <td>4539</td>\n      <td>17343</td>\n      <td>61</td>\n      <td>94013</td>\n      <td>95118</td>\n      <td>13623</td>\n      <td>52354</td>\n      <td>869</td>\n      <td>1061</td>\n      <td>1149</td>\n      <td>1442</td>\n      <td>51277</td>\n      <td>294</td>\n      <td>3914</td>\n      <td>34484</td>\n    </tr>\n  </tbody>\n</table>\n</div>"
     },
     "metadata": {},
     "execution_count": 23
    }
   ],
   "source": [
    "df[char_feats].describe(include=['O'])"
   ]
  },
  {
   "cell_type": "code",
   "execution_count": 24,
   "metadata": {},
   "outputs": [],
   "source": [
    "def unique_check(df, threshold):\n",
    "    table = df.describe(include=['O'])\n",
    "    highly_unique = []\n",
    "    for col in table.columns:\n",
    "        f = table.loc['freq',col]/table.loc['count',col]\n",
    "        if f > threshold:\n",
    "            highly_unique.append(col)\n",
    "            print(col, ', percentage of top unique value = %.2f %%' %(100*f))\n",
    "    if len(highly_unique) == 0:\n",
    "        print('There is no column has too high percentage of a value')"
   ]
  },
  {
   "cell_type": "code",
   "execution_count": 25,
   "metadata": {
    "scrolled": false
   },
   "outputs": [
    {
     "output_type": "stream",
     "name": "stdout",
     "text": [
      "MAILCODE , percentage of top unique value = 98.53 %\nMDMAUD , percentage of top unique value = 99.69 %\nMAJOR , percentage of top unique value = 100.00 %\n"
     ]
    }
   ],
   "source": [
    "unique_check(df[char_feats], 0.9)"
   ]
  },
  {
   "cell_type": "code",
   "execution_count": 26,
   "metadata": {},
   "outputs": [],
   "source": [
    "#columns are not interesting and have lots of null values\n",
    "df.drop(['MAILCODE','MDMAUD','CHILD03','CHILD07','CHILD12','CHILD18','MAJOR'],inplace=True,axis = 1)\n",
    "# Update the seleted features list\n",
    "selected_feats = update_selected_feats_list(df, features_list)\n",
    "char_feats = selected_feats[selected_feats['Category'] == 'Characteristics']['FeaturesName']"
   ]
  },
  {
   "cell_type": "markdown",
   "metadata": {},
   "source": [
    "**c) Check for correlation**"
   ]
  },
  {
   "cell_type": "code",
   "execution_count": 27,
   "metadata": {
    "scrolled": false
   },
   "outputs": [],
   "source": [
    "corrheatmap(df[char_feats])"
   ]
  },
  {
   "cell_type": "code",
   "execution_count": 28,
   "metadata": {},
   "outputs": [],
   "source": [
    "#find features with correlations greater than 0.9 in order to remove them\n",
    "def correlation_check(df, limit = 0.90, drop = False):\n",
    "    corr = df.corr()\n",
    "    mask = np.triu(np.ones(corr.shape), k=1).astype(bool)\n",
    "    corr_no_diag = corr.where(mask)\n",
    "    coll = [c for c in corr_no_diag.columns if any(abs(corr_no_diag[c]) > limit)]\n",
    "    if drop is True:        \n",
    "        df.drop(coll,axis = 1,inplace=True)\n",
    "        print('Dropped:', coll)\n",
    "        return df\n",
    "    else:\n",
    "        print('Columns having high correlation:', coll) "
   ]
  },
  {
   "cell_type": "code",
   "execution_count": 29,
   "metadata": {},
   "outputs": [
    {
     "output_type": "stream",
     "name": "stdout",
     "text": [
      "Columns having high correlation: []\n"
     ]
    }
   ],
   "source": [
    "correlation_check(df[char_feats])"
   ]
  },
  {
   "cell_type": "markdown",
   "metadata": {},
   "source": [
    "**d) Check for Nulls values:**"
   ]
  },
  {
   "cell_type": "code",
   "execution_count": 30,
   "metadata": {},
   "outputs": [
    {
     "output_type": "execute_result",
     "data": {
      "text/plain": [
       "ODATEDW         0\n",
       "OSOURCE       928\n",
       "TCODE           0\n",
       "STATE           0\n",
       "ZIP             0\n",
       "DOMAIN       2316\n",
       "HOMEOWNR    22228\n",
       "NUMCHLD     83026\n",
       "INCOME      21286\n",
       "GENDER       2957\n",
       "WEALTH1     44732\n",
       "HIT             0\n",
       "WEALTH2     43823\n",
       "GEOCODE     80168\n",
       "GEOCODE2      319\n",
       "AGE         23883\n",
       "dtype: int64"
      ]
     },
     "metadata": {},
     "execution_count": 30
    }
   ],
   "source": [
    "df[char_feats].isna().sum()"
   ]
  },
  {
   "cell_type": "markdown",
   "metadata": {},
   "source": [
    "Too many null values for NUMCHLD and GEOCODE so we will drop these columns"
   ]
  },
  {
   "cell_type": "code",
   "execution_count": 31,
   "metadata": {},
   "outputs": [],
   "source": [
    "#too many null values for NUMCHLD and GEOCODE so we will drop these columns\n",
    "df.drop(['NUMCHLD','GEOCODE'],inplace=True,axis = 1,errors='ignore')\n",
    "# Update the seleted features list\n",
    "selected_feats = update_selected_feats_list(df, features_list)\n",
    "char_feats = selected_feats[selected_feats['Category'] == 'Characteristics']['FeaturesName']"
   ]
  },
  {
   "cell_type": "code",
   "execution_count": 32,
   "metadata": {},
   "outputs": [
    {
     "output_type": "execute_result",
     "data": {
      "text/plain": [
       "                    FeaturesName\n",
       "Category                        \n",
       "Characteristics               14\n",
       "Interests                     19\n",
       "Mail response                 14\n",
       "Neighborhood                  75\n",
       "Promotion and Gift            27"
      ],
      "text/html": "<div>\n<style scoped>\n    .dataframe tbody tr th:only-of-type {\n        vertical-align: middle;\n    }\n\n    .dataframe tbody tr th {\n        vertical-align: top;\n    }\n\n    .dataframe thead th {\n        text-align: right;\n    }\n</style>\n<table border=\"1\" class=\"dataframe\">\n  <thead>\n    <tr style=\"text-align: right;\">\n      <th></th>\n      <th>FeaturesName</th>\n    </tr>\n    <tr>\n      <th>Category</th>\n      <th></th>\n    </tr>\n  </thead>\n  <tbody>\n    <tr>\n      <th>Characteristics</th>\n      <td>14</td>\n    </tr>\n    <tr>\n      <th>Interests</th>\n      <td>19</td>\n    </tr>\n    <tr>\n      <th>Mail response</th>\n      <td>14</td>\n    </tr>\n    <tr>\n      <th>Neighborhood</th>\n      <td>75</td>\n    </tr>\n    <tr>\n      <th>Promotion and Gift</th>\n      <td>27</td>\n    </tr>\n  </tbody>\n</table>\n</div>"
     },
     "metadata": {},
     "execution_count": 32
    }
   ],
   "source": [
    "# Summary by category\n",
    "pd.DataFrame(selected_feats.groupby('Category')['FeaturesName'].count())"
   ]
  },
  {
   "cell_type": "markdown",
   "metadata": {},
   "source": [
    "### 3.1.4. Promotion and Gift features:"
   ]
  },
  {
   "cell_type": "code",
   "execution_count": 33,
   "metadata": {
    "scrolled": false
   },
   "outputs": [
    {
     "output_type": "execute_result",
     "data": {
      "text/plain": [
       "     FeaturesName                                        Description  \\\n",
       "404      CARDPROM     Lifetime number of card promotions received to   \n",
       "405      MAXADATE     Date of the most recent promotion received (in   \n",
       "406       NUMPROM     Lifetime number of promotions received to date   \n",
       "407      CARDPM12     Number of card promotions received in the last   \n",
       "408      NUMPRM12       Number of promotions received in the last 12   \n",
       "453      RAMNTALL            Dollar amount of lifetime gifts to date   \n",
       "454      NGIFTALL                   Number of lifetime gifts to date   \n",
       "455      CARDGIFT  Number of lifetime gifts to card promotions to...   \n",
       "456      MINRAMNT             Dollar amount of smallest gift to date   \n",
       "457      MINRDATE     Date associated with the smallest gift to date   \n",
       "458      MAXRAMNT              Dollar amount of largest gift to date   \n",
       "459      MAXRDATE      Date associated with the largest gift to date   \n",
       "460      LASTGIFT                  Dollar amount of most recent gift   \n",
       "461      LASTDATE          Date associated with the most recent gift   \n",
       "462      FISTDATE                                 Date of first gift   \n",
       "463      NEXTDATE                                Date of second gift   \n",
       "464       TIMELAG     Number of months between first and second gift   \n",
       "465       AVGGIFT             Average dollar amount of gifts to date   \n",
       "468        RFA_2R                             Recency code for RFA_2   \n",
       "469        RFA_2F                           Frequency code for RFA_2   \n",
       "470        RFA_2A                     Donation Amount code for RFA_2   \n",
       "471      MDMAUD_R                            Recency code for MDMAUD   \n",
       "472      MDMAUD_F                           Frequecy code for MDMAUD   \n",
       "473      MDMAUD_A                    Donation Amount code for MDMAUD   \n",
       "476  RFA_USEDTO_R   Recency code of the previous status of the donor   \n",
       "477  RFA_USEDTO_F  Frequency code of the previous status of the d...   \n",
       "478  RFA_USEDTO_A    Amount code of the previous status of the donor   \n",
       "\n",
       "               Category SubCategory Selected  \n",
       "404  Promotion and Gift     Summary        x  \n",
       "405  Promotion and Gift     Summary        x  \n",
       "406  Promotion and Gift     Summary        x  \n",
       "407  Promotion and Gift     Summary        x  \n",
       "408  Promotion and Gift     Summary        x  \n",
       "453  Promotion and Gift     Summary        x  \n",
       "454  Promotion and Gift     Summary        x  \n",
       "455  Promotion and Gift     Summary        x  \n",
       "456  Promotion and Gift     Summary        x  \n",
       "457  Promotion and Gift     Summary        x  \n",
       "458  Promotion and Gift     Summary        x  \n",
       "459  Promotion and Gift     Summary        x  \n",
       "460  Promotion and Gift     Summary        x  \n",
       "461  Promotion and Gift     Summary        x  \n",
       "462  Promotion and Gift     Summary        x  \n",
       "463  Promotion and Gift     Summary        x  \n",
       "464  Promotion and Gift     Summary        x  \n",
       "465  Promotion and Gift     Summary        x  \n",
       "468  Promotion and Gift     Summary        x  \n",
       "469  Promotion and Gift     Summary        x  \n",
       "470  Promotion and Gift     Summary        x  \n",
       "471  Promotion and Gift     Summary        x  \n",
       "472  Promotion and Gift     Summary        x  \n",
       "473  Promotion and Gift     Summary        x  \n",
       "476  Promotion and Gift                    x  \n",
       "477  Promotion and Gift                    x  \n",
       "478  Promotion and Gift                    x  "
      ],
      "text/html": "<div>\n<style scoped>\n    .dataframe tbody tr th:only-of-type {\n        vertical-align: middle;\n    }\n\n    .dataframe tbody tr th {\n        vertical-align: top;\n    }\n\n    .dataframe thead th {\n        text-align: right;\n    }\n</style>\n<table border=\"1\" class=\"dataframe\">\n  <thead>\n    <tr style=\"text-align: right;\">\n      <th></th>\n      <th>FeaturesName</th>\n      <th>Description</th>\n      <th>Category</th>\n      <th>SubCategory</th>\n      <th>Selected</th>\n    </tr>\n  </thead>\n  <tbody>\n    <tr>\n      <th>404</th>\n      <td>CARDPROM</td>\n      <td>Lifetime number of card promotions received to</td>\n      <td>Promotion and Gift</td>\n      <td>Summary</td>\n      <td>x</td>\n    </tr>\n    <tr>\n      <th>405</th>\n      <td>MAXADATE</td>\n      <td>Date of the most recent promotion received (in</td>\n      <td>Promotion and Gift</td>\n      <td>Summary</td>\n      <td>x</td>\n    </tr>\n    <tr>\n      <th>406</th>\n      <td>NUMPROM</td>\n      <td>Lifetime number of promotions received to date</td>\n      <td>Promotion and Gift</td>\n      <td>Summary</td>\n      <td>x</td>\n    </tr>\n    <tr>\n      <th>407</th>\n      <td>CARDPM12</td>\n      <td>Number of card promotions received in the last</td>\n      <td>Promotion and Gift</td>\n      <td>Summary</td>\n      <td>x</td>\n    </tr>\n    <tr>\n      <th>408</th>\n      <td>NUMPRM12</td>\n      <td>Number of promotions received in the last 12</td>\n      <td>Promotion and Gift</td>\n      <td>Summary</td>\n      <td>x</td>\n    </tr>\n    <tr>\n      <th>453</th>\n      <td>RAMNTALL</td>\n      <td>Dollar amount of lifetime gifts to date</td>\n      <td>Promotion and Gift</td>\n      <td>Summary</td>\n      <td>x</td>\n    </tr>\n    <tr>\n      <th>454</th>\n      <td>NGIFTALL</td>\n      <td>Number of lifetime gifts to date</td>\n      <td>Promotion and Gift</td>\n      <td>Summary</td>\n      <td>x</td>\n    </tr>\n    <tr>\n      <th>455</th>\n      <td>CARDGIFT</td>\n      <td>Number of lifetime gifts to card promotions to...</td>\n      <td>Promotion and Gift</td>\n      <td>Summary</td>\n      <td>x</td>\n    </tr>\n    <tr>\n      <th>456</th>\n      <td>MINRAMNT</td>\n      <td>Dollar amount of smallest gift to date</td>\n      <td>Promotion and Gift</td>\n      <td>Summary</td>\n      <td>x</td>\n    </tr>\n    <tr>\n      <th>457</th>\n      <td>MINRDATE</td>\n      <td>Date associated with the smallest gift to date</td>\n      <td>Promotion and Gift</td>\n      <td>Summary</td>\n      <td>x</td>\n    </tr>\n    <tr>\n      <th>458</th>\n      <td>MAXRAMNT</td>\n      <td>Dollar amount of largest gift to date</td>\n      <td>Promotion and Gift</td>\n      <td>Summary</td>\n      <td>x</td>\n    </tr>\n    <tr>\n      <th>459</th>\n      <td>MAXRDATE</td>\n      <td>Date associated with the largest gift to date</td>\n      <td>Promotion and Gift</td>\n      <td>Summary</td>\n      <td>x</td>\n    </tr>\n    <tr>\n      <th>460</th>\n      <td>LASTGIFT</td>\n      <td>Dollar amount of most recent gift</td>\n      <td>Promotion and Gift</td>\n      <td>Summary</td>\n      <td>x</td>\n    </tr>\n    <tr>\n      <th>461</th>\n      <td>LASTDATE</td>\n      <td>Date associated with the most recent gift</td>\n      <td>Promotion and Gift</td>\n      <td>Summary</td>\n      <td>x</td>\n    </tr>\n    <tr>\n      <th>462</th>\n      <td>FISTDATE</td>\n      <td>Date of first gift</td>\n      <td>Promotion and Gift</td>\n      <td>Summary</td>\n      <td>x</td>\n    </tr>\n    <tr>\n      <th>463</th>\n      <td>NEXTDATE</td>\n      <td>Date of second gift</td>\n      <td>Promotion and Gift</td>\n      <td>Summary</td>\n      <td>x</td>\n    </tr>\n    <tr>\n      <th>464</th>\n      <td>TIMELAG</td>\n      <td>Number of months between first and second gift</td>\n      <td>Promotion and Gift</td>\n      <td>Summary</td>\n      <td>x</td>\n    </tr>\n    <tr>\n      <th>465</th>\n      <td>AVGGIFT</td>\n      <td>Average dollar amount of gifts to date</td>\n      <td>Promotion and Gift</td>\n      <td>Summary</td>\n      <td>x</td>\n    </tr>\n    <tr>\n      <th>468</th>\n      <td>RFA_2R</td>\n      <td>Recency code for RFA_2</td>\n      <td>Promotion and Gift</td>\n      <td>Summary</td>\n      <td>x</td>\n    </tr>\n    <tr>\n      <th>469</th>\n      <td>RFA_2F</td>\n      <td>Frequency code for RFA_2</td>\n      <td>Promotion and Gift</td>\n      <td>Summary</td>\n      <td>x</td>\n    </tr>\n    <tr>\n      <th>470</th>\n      <td>RFA_2A</td>\n      <td>Donation Amount code for RFA_2</td>\n      <td>Promotion and Gift</td>\n      <td>Summary</td>\n      <td>x</td>\n    </tr>\n    <tr>\n      <th>471</th>\n      <td>MDMAUD_R</td>\n      <td>Recency code for MDMAUD</td>\n      <td>Promotion and Gift</td>\n      <td>Summary</td>\n      <td>x</td>\n    </tr>\n    <tr>\n      <th>472</th>\n      <td>MDMAUD_F</td>\n      <td>Frequecy code for MDMAUD</td>\n      <td>Promotion and Gift</td>\n      <td>Summary</td>\n      <td>x</td>\n    </tr>\n    <tr>\n      <th>473</th>\n      <td>MDMAUD_A</td>\n      <td>Donation Amount code for MDMAUD</td>\n      <td>Promotion and Gift</td>\n      <td>Summary</td>\n      <td>x</td>\n    </tr>\n    <tr>\n      <th>476</th>\n      <td>RFA_USEDTO_R</td>\n      <td>Recency code of the previous status of the donor</td>\n      <td>Promotion and Gift</td>\n      <td></td>\n      <td>x</td>\n    </tr>\n    <tr>\n      <th>477</th>\n      <td>RFA_USEDTO_F</td>\n      <td>Frequency code of the previous status of the d...</td>\n      <td>Promotion and Gift</td>\n      <td></td>\n      <td>x</td>\n    </tr>\n    <tr>\n      <th>478</th>\n      <td>RFA_USEDTO_A</td>\n      <td>Amount code of the previous status of the donor</td>\n      <td>Promotion and Gift</td>\n      <td></td>\n      <td>x</td>\n    </tr>\n  </tbody>\n</table>\n</div>"
     },
     "metadata": {},
     "execution_count": 33
    }
   ],
   "source": [
    "PG_feats = selected_feats[selected_feats['Category'] == 'Promotion and Gift']['FeaturesName']\n",
    "# selected features\n",
    "selected_feats[selected_feats['Category'] == 'Promotion and Gift']"
   ]
  },
  {
   "cell_type": "markdown",
   "metadata": {},
   "source": [
    "**a) Feature engineering:**"
   ]
  },
  {
   "cell_type": "markdown",
   "metadata": {},
   "source": [
    "There are 4 date-time features that we can assume that they will not have much interpretation power for clustering.  \n",
    "Those features are: **'MINRDATE', 'MAXRDATE', 'NEXTDATE' and 'TIMELAG'**.  \n",
    "\n",
    "Thus, we decided to drop them:"
   ]
  },
  {
   "cell_type": "code",
   "execution_count": 34,
   "metadata": {},
   "outputs": [],
   "source": [
    "# Remove un-relevant features\n",
    "df = df.drop(columns=['MINRDATE','MAXRDATE','NEXTDATE','TIMELAG'],errors='ignore')"
   ]
  },
  {
   "cell_type": "markdown",
   "metadata": {},
   "source": [
    "The remaining date-time features are 'MAXADATE', 'LASTDATE' and 'FISTDATE'. These features are useful to generate two important features in RFM (Recency, Frequency and Monetary) analysis which are Recency and Frequency.  \n",
    "\n",
    "The 2 new features to generate are:\n",
    "- Time in days since the last promotion and the last gift from the donor: 'RECENCY' = 'MAXADATE' - 'LASTDATE'  \n",
    "- Time in days since the last promotion and the first gift from the donor: 'LIFETIME' = 'MAXADATE' - 'FISTDATE' "
   ]
  },
  {
   "cell_type": "code",
   "execution_count": 35,
   "metadata": {},
   "outputs": [],
   "source": [
    "# convert data to datetime \n",
    "df['MAXADATE'] = pd.to_datetime(df['MAXADATE'])\n",
    "df['LASTDATE'] = pd.to_datetime(df['LASTDATE'])\n",
    "df['FISTDATE'] = pd.to_datetime(df['FISTDATE'])\n",
    "# measure the recency and lifetime of donors\n",
    "df['RECENCY'] = (df['MAXADATE'] - df['LASTDATE'])/pd.to_timedelta(1, unit='D')\n",
    "df['LIFETIME'] = (df['MAXADATE'] - df['FISTDATE'])/pd.to_timedelta(1, unit='D')\n",
    "\n",
    "# Add new features to the metadata\n",
    "feats = pd.DataFrame([['RECENCY', \"Time in days since the last promotion and the last gift from the donor\",\"Promotion and Gift\",\"\",\"x\" ],\n",
    "                    ['LIFETIME', \"Time in days since the last promotion and the first gift from the donor\",\"Promotion and Gift\",\"\",\"x\"]], \n",
    "                    columns=selected_feats.columns)\n",
    "features_list= features_list.append(feats,ignore_index=True)\n",
    "                      \n",
    "# Then we drop the datetime columns:\n",
    "df = df.drop(columns=['MAXADATE','FISTDATE','LASTDATE'],errors='ignore')\n",
    "\n",
    "# Update the seleted features list\n",
    "selected_feats = update_selected_feats_list(df, features_list)\n",
    "PG_feats = selected_feats[selected_feats['Category'] == 'Promotion and Gift']['FeaturesName']"
   ]
  },
  {
   "cell_type": "code",
   "execution_count": 36,
   "metadata": {
    "scrolled": true
   },
   "outputs": [],
   "source": [
    "histplot_func(df.loc[:,['RECENCY','LIFETIME']])"
   ]
  },
  {
   "cell_type": "markdown",
   "metadata": {},
   "source": [
    "**b) Check for unique values:**"
   ]
  },
  {
   "cell_type": "code",
   "execution_count": 37,
   "metadata": {
    "scrolled": false
   },
   "outputs": [
    {
     "output_type": "execute_result",
     "data": {
      "text/plain": [
       "       RFA_2R RFA_2A MDMAUD_R MDMAUD_F MDMAUD_A RFA_USEDTO_R RFA_USEDTO_F  \\\n",
       "count   95412  95412    95412    95412    95412        95412        95412   \n",
       "unique      1      4        5        4        5            8            4   \n",
       "top         L      F        X        X        X            A            1   \n",
       "freq    95412  46964    95118    95118    95118        60156        48358   \n",
       "\n",
       "       RFA_USEDTO_A  \n",
       "count         95412  \n",
       "unique            7  \n",
       "top               F  \n",
       "freq          46170  "
      ],
      "text/html": "<div>\n<style scoped>\n    .dataframe tbody tr th:only-of-type {\n        vertical-align: middle;\n    }\n\n    .dataframe tbody tr th {\n        vertical-align: top;\n    }\n\n    .dataframe thead th {\n        text-align: right;\n    }\n</style>\n<table border=\"1\" class=\"dataframe\">\n  <thead>\n    <tr style=\"text-align: right;\">\n      <th></th>\n      <th>RFA_2R</th>\n      <th>RFA_2A</th>\n      <th>MDMAUD_R</th>\n      <th>MDMAUD_F</th>\n      <th>MDMAUD_A</th>\n      <th>RFA_USEDTO_R</th>\n      <th>RFA_USEDTO_F</th>\n      <th>RFA_USEDTO_A</th>\n    </tr>\n  </thead>\n  <tbody>\n    <tr>\n      <th>count</th>\n      <td>95412</td>\n      <td>95412</td>\n      <td>95412</td>\n      <td>95412</td>\n      <td>95412</td>\n      <td>95412</td>\n      <td>95412</td>\n      <td>95412</td>\n    </tr>\n    <tr>\n      <th>unique</th>\n      <td>1</td>\n      <td>4</td>\n      <td>5</td>\n      <td>4</td>\n      <td>5</td>\n      <td>8</td>\n      <td>4</td>\n      <td>7</td>\n    </tr>\n    <tr>\n      <th>top</th>\n      <td>L</td>\n      <td>F</td>\n      <td>X</td>\n      <td>X</td>\n      <td>X</td>\n      <td>A</td>\n      <td>1</td>\n      <td>F</td>\n    </tr>\n    <tr>\n      <th>freq</th>\n      <td>95412</td>\n      <td>46964</td>\n      <td>95118</td>\n      <td>95118</td>\n      <td>95118</td>\n      <td>60156</td>\n      <td>48358</td>\n      <td>46170</td>\n    </tr>\n  </tbody>\n</table>\n</div>"
     },
     "metadata": {},
     "execution_count": 37
    }
   ],
   "source": [
    "df[PG_feats].describe(include=['O'])"
   ]
  },
  {
   "cell_type": "code",
   "execution_count": 38,
   "metadata": {},
   "outputs": [
    {
     "output_type": "stream",
     "name": "stdout",
     "text": [
      "RFA_2R , percentage of top unique value = 100.00 %\nMDMAUD_R , percentage of top unique value = 99.69 %\nMDMAUD_F , percentage of top unique value = 99.69 %\nMDMAUD_A , percentage of top unique value = 99.69 %\n"
     ]
    }
   ],
   "source": [
    "unique_check(df[PG_feats], 0.9)"
   ]
  },
  {
   "cell_type": "markdown",
   "metadata": {},
   "source": [
    "We can clearly see that features **'RFA_2R', 'MDMAUD_R', 'MDMAUD_F' and 'MDMAUD_A'** having only 1 values for mostly all of their records, thus they are considered redundant in this cluster analysis"
   ]
  },
  {
   "cell_type": "code",
   "execution_count": 39,
   "metadata": {},
   "outputs": [],
   "source": [
    "# Drop these redundant columns\n",
    "df = df.drop(columns=['RFA_2R', 'MDMAUD_R', 'MDMAUD_F','MDMAUD_A'],errors='ignore')\n",
    "# Update the seleted features list\n",
    "selected_feats = update_selected_feats_list(df, features_list)\n",
    "PG_feats = selected_feats[selected_feats['Category'] == 'Promotion and Gift']['FeaturesName']"
   ]
  },
  {
   "cell_type": "markdown",
   "metadata": {},
   "source": [
    "**c) Check for correlation**"
   ]
  },
  {
   "cell_type": "code",
   "execution_count": 40,
   "metadata": {},
   "outputs": [],
   "source": [
    "corrheatmap(df[PG_feats])"
   ]
  },
  {
   "cell_type": "code",
   "execution_count": 41,
   "metadata": {
    "scrolled": false
   },
   "outputs": [
    {
     "output_type": "stream",
     "name": "stdout",
     "text": [
      "Columns having high correlation: ['NUMPROM', 'CARDGIFT', 'LIFETIME']\n"
     ]
    }
   ],
   "source": [
    "correlation_check(df[PG_feats])"
   ]
  },
  {
   "cell_type": "code",
   "execution_count": 42,
   "metadata": {},
   "outputs": [],
   "source": [
    "# Drop these redundant columns\n",
    "df = df.drop(columns=['NUMPROM', 'CARDGIFT', 'LIFETIME'])\n",
    "# Update the seleted features list\n",
    "selected_feats = update_selected_feats_list(df, features_list)\n",
    "PG_feats = selected_feats[selected_feats['Category'] == 'Promotion and Gift']['FeaturesName']"
   ]
  },
  {
   "cell_type": "markdown",
   "metadata": {},
   "source": [
    "**d) Check for Nulls values:**"
   ]
  },
  {
   "cell_type": "code",
   "execution_count": 43,
   "metadata": {
    "scrolled": false
   },
   "outputs": [
    {
     "output_type": "execute_result",
     "data": {
      "text/plain": [
       "CARDPROM        0\n",
       "CARDPM12        0\n",
       "NUMPRM12        0\n",
       "RAMNTALL        0\n",
       "NGIFTALL        0\n",
       "MINRAMNT        0\n",
       "MAXRAMNT        0\n",
       "LASTGIFT        0\n",
       "AVGGIFT         0\n",
       "RFA_2F          0\n",
       "RFA_2A          0\n",
       "RFA_USEDTO_R    0\n",
       "RFA_USEDTO_F    0\n",
       "RFA_USEDTO_A    0\n",
       "RECENCY         0\n",
       "dtype: int64"
      ]
     },
     "metadata": {},
     "execution_count": 43
    }
   ],
   "source": [
    "df[PG_feats].isna().sum()"
   ]
  },
  {
   "cell_type": "markdown",
   "metadata": {},
   "source": [
    "## 3.2. Check for outliners:"
   ]
  },
  {
   "cell_type": "code",
   "execution_count": 44,
   "metadata": {},
   "outputs": [],
   "source": [
    "def IQR_OutlierRemover(df,column,n):\n",
    "    #give the function the column that you want to filter and the IQR multiplicator    \n",
    "    # Compute the IQR\n",
    "    q1= df[column].quantile(0.25)\n",
    "    q3= df[column].quantile(0.75)\n",
    "    Iqr = q3 - q1\n",
    "\n",
    "    # Compute upper and lower limit (lower_limit = Q1 -1.5*IQR | upper_limit = Q3 + 1.5*IQR)\n",
    "    lower_lim = q1 - n*Iqr\n",
    "    upper_lim = q3 + n*Iqr\n",
    "\n",
    "    initial_len = df.shape[0]\n",
    "\n",
    "    df = df[~((df[column] < lower_lim) | (df[column] > upper_lim))]\n",
    "\n",
    "    len_afterremov = df.shape[0]\n",
    "\n",
    "    print('Percentage of data kept after removing outliers:', np.round(len_afterremov / initial_len, 4))\n",
    "\n",
    "    return df"
   ]
  },
  {
   "cell_type": "code",
   "execution_count": 45,
   "metadata": {},
   "outputs": [
    {
     "output_type": "stream",
     "name": "stdout",
     "text": [
      "Percentage of data kept after removing outliers: 1.0\n"
     ]
    }
   ],
   "source": [
    "df = IQR_OutlierRemover(df,'AGE',2)"
   ]
  },
  {
   "cell_type": "code",
   "execution_count": 46,
   "metadata": {},
   "outputs": [
    {
     "output_type": "stream",
     "name": "stdout",
     "text": [
      "Percentage of data kept after removing outliers: 0.9882\n"
     ]
    }
   ],
   "source": [
    "df = IQR_OutlierRemover(df,'POP901',12.5)"
   ]
  },
  {
   "cell_type": "code",
   "execution_count": 47,
   "metadata": {},
   "outputs": [
    {
     "output_type": "stream",
     "name": "stdout",
     "text": [
      "Percentage of data kept after removing outliers: 0.9869\n"
     ]
    }
   ],
   "source": [
    "df = IQR_OutlierRemover(df,'POP90C5',5)"
   ]
  },
  {
   "cell_type": "code",
   "execution_count": 48,
   "metadata": {},
   "outputs": [
    {
     "output_type": "stream",
     "name": "stdout",
     "text": [
      "Percentage of data kept after removing outliers: 0.9852\n",
      "Percentage of data kept after removing outliers: 0.9901\n",
      "Percentage of data kept after removing outliers: 0.9908\n",
      "Percentage of data kept after removing outliers: 0.9921\n",
      "Percentage of data kept after removing outliers: 0.9929\n",
      "Percentage of data kept after removing outliers: 0.9907\n"
     ]
    }
   ],
   "source": [
    "#Removing Outlier of some columns without getting rid of lots of data\n",
    "df = IQR_OutlierRemover(df,'ETH1',5)\n",
    "df = IQR_OutlierRemover(df,'ETH2',13)\n",
    "df = IQR_OutlierRemover(df,'ETH3',10)\n",
    "df = IQR_OutlierRemover(df,'ETH4',13)\n",
    "df = IQR_OutlierRemover(df,'ETH5',12.5)\n",
    "df = IQR_OutlierRemover(df,'ETH12',1.5)"
   ]
  },
  {
   "cell_type": "markdown",
   "metadata": {},
   "source": [
    "## 3.3. "
   ]
  },
  {
   "cell_type": "code",
   "execution_count": null,
   "metadata": {},
   "outputs": [],
   "source": []
  }
 ],
 "metadata": {
  "kernelspec": {
   "name": "python3",
   "display_name": "Python 3.8.5 64-bit (conda)",
   "metadata": {
    "interpreter": {
     "hash": "1eab502ec777fae6c5134d02d87699fbb8a565c86c73adfde84fabe361f08549"
    }
   }
  },
  "language_info": {
   "codemirror_mode": {
    "name": "ipython",
    "version": 3
   },
   "file_extension": ".py",
   "mimetype": "text/x-python",
   "name": "python",
   "nbconvert_exporter": "python",
   "pygments_lexer": "ipython3",
   "version": "3.8.5-final"
  }
 },
 "nbformat": 4,
 "nbformat_minor": 4
}