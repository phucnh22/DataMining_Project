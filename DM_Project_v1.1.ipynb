{
 "cells": [
  {
   "cell_type": "markdown",
   "metadata": {},
   "source": [
    "# **1. Introduction** <a class=\"anchor\" id=\"1\"></a>"
   ]
  },
  {
   "cell_type": "markdown",
   "metadata": {},
   "source": [
    "## **1.2. Import packages**"
   ]
  },
  {
   "cell_type": "code",
   "execution_count": 1,
   "metadata": {},
   "outputs": [],
   "source": [
    "# Remember: library imports are ALWAYS at the top of the script, no exceptions!\n",
    "import math\n",
    "import sqlite3\n",
    "import os\n",
    "import pandas as pd\n",
    "import numpy as np\n",
    "import matplotlib.pyplot as plt\n",
    "import seaborn as sns\n",
    "import datetime as dt\n",
    "from math import ceil\n",
    "from sklearn.preprocessing import MinMaxScaler, StandardScaler\n",
    "from pandas_profiling import ProfileReport\n",
    "from sklearn.cluster import AgglomerativeClustering, KMeans\n",
    "from sklearn.decomposition import PCA\n",
    "\n",
    "# Feature selection\n",
    "from sklearn.feature_selection import VarianceThreshold\n",
    "from collections import defaultdict\n",
    "from sklearn.metrics.pairwise import euclidean_distances\n",
    "from sklearn import random_projection\n",
    "from scipy.cluster.hierarchy import dendrogram\n",
    "from sklearn.impute import KNNImputer"
   ]
  },
  {
   "cell_type": "markdown",
   "metadata": {},
   "source": [
    "## **1.3. Import data**"
   ]
  },
  {
   "cell_type": "code",
   "execution_count": 2,
   "metadata": {},
   "outputs": [
    {
     "output_type": "stream",
     "name": "stdout",
     "text": [
      "The data set has total 95412 records and 475 features\n"
     ]
    }
   ],
   "source": [
    "data = pd.read_csv('donors.csv',index_col=0, low_memory=False)\n",
    "print(\"The data set has total %d records and %d features\" %data.shape)"
   ]
  },
  {
   "cell_type": "markdown",
   "metadata": {},
   "source": [
    "# **2. Pre-processing data:** <a class=\"anchor\" id=\"1\"></a>"
   ]
  },
  {
   "cell_type": "markdown",
   "metadata": {},
   "source": [
    "After conducting **Exploratory Data Analysis (Appendix 1)** for 475 features of the original data set, we have listed out the most significant features that we consider to be important for the clustering task.  \n",
    "Thus, from now, we will continue with these selected features:"
   ]
  },
  {
   "cell_type": "code",
   "execution_count": 3,
   "metadata": {},
   "outputs": [
    {
     "output_type": "execute_result",
     "data": {
      "text/plain": [
       "      FeaturesName                                    Description  \\\n",
       "Index                                                               \n",
       "1          ODATEDW        Origin Date. Date of donor's first gift   \n",
       "2          OSOURCE                                  Origin Source   \n",
       "3            TCODE                               Donor title code   \n",
       "4            STATE  State abbreviation (a nominal/symbolic field)   \n",
       "5              ZIP             Zipcode (a nominal/symbolic field)   \n",
       "\n",
       "              Category SubCategory Phuc Henrique Lorenzo Selected  \n",
       "Index                                                              \n",
       "1      Characteristics         NaN  NaN        x     NaN        x  \n",
       "2      Characteristics         NaN  NaN        x     NaN        x  \n",
       "3      Characteristics         NaN  NaN        x     NaN        x  \n",
       "4      Characteristics         NaN  NaN        x     NaN        x  \n",
       "5      Characteristics         NaN  NaN        x     NaN        x  "
      ],
      "text/html": "<div>\n<style scoped>\n    .dataframe tbody tr th:only-of-type {\n        vertical-align: middle;\n    }\n\n    .dataframe tbody tr th {\n        vertical-align: top;\n    }\n\n    .dataframe thead th {\n        text-align: right;\n    }\n</style>\n<table border=\"1\" class=\"dataframe\">\n  <thead>\n    <tr style=\"text-align: right;\">\n      <th></th>\n      <th>FeaturesName</th>\n      <th>Description</th>\n      <th>Category</th>\n      <th>SubCategory</th>\n      <th>Phuc</th>\n      <th>Henrique</th>\n      <th>Lorenzo</th>\n      <th>Selected</th>\n    </tr>\n    <tr>\n      <th>Index</th>\n      <th></th>\n      <th></th>\n      <th></th>\n      <th></th>\n      <th></th>\n      <th></th>\n      <th></th>\n      <th></th>\n    </tr>\n  </thead>\n  <tbody>\n    <tr>\n      <th>1</th>\n      <td>ODATEDW</td>\n      <td>Origin Date. Date of donor's first gift</td>\n      <td>Characteristics</td>\n      <td>NaN</td>\n      <td>NaN</td>\n      <td>x</td>\n      <td>NaN</td>\n      <td>x</td>\n    </tr>\n    <tr>\n      <th>2</th>\n      <td>OSOURCE</td>\n      <td>Origin Source</td>\n      <td>Characteristics</td>\n      <td>NaN</td>\n      <td>NaN</td>\n      <td>x</td>\n      <td>NaN</td>\n      <td>x</td>\n    </tr>\n    <tr>\n      <th>3</th>\n      <td>TCODE</td>\n      <td>Donor title code</td>\n      <td>Characteristics</td>\n      <td>NaN</td>\n      <td>NaN</td>\n      <td>x</td>\n      <td>NaN</td>\n      <td>x</td>\n    </tr>\n    <tr>\n      <th>4</th>\n      <td>STATE</td>\n      <td>State abbreviation (a nominal/symbolic field)</td>\n      <td>Characteristics</td>\n      <td>NaN</td>\n      <td>NaN</td>\n      <td>x</td>\n      <td>NaN</td>\n      <td>x</td>\n    </tr>\n    <tr>\n      <th>5</th>\n      <td>ZIP</td>\n      <td>Zipcode (a nominal/symbolic field)</td>\n      <td>Characteristics</td>\n      <td>NaN</td>\n      <td>NaN</td>\n      <td>x</td>\n      <td>NaN</td>\n      <td>x</td>\n    </tr>\n  </tbody>\n</table>\n</div>"
     },
     "metadata": {},
     "execution_count": 3
    }
   ],
   "source": [
    "# Import the database we create for selecting the features:\n",
    "features_list = pd.read_csv('Selected_Features.csv',index_col=0)\n",
    "features_list.head()"
   ]
  },
  {
   "cell_type": "code",
   "execution_count": 4,
   "metadata": {},
   "outputs": [],
   "source": [
    "features_list.drop(['Phuc','Henrique','Lorenzo'],axis=1,inplace=True)"
   ]
  },
  {
   "cell_type": "code",
   "execution_count": 5,
   "metadata": {
    "scrolled": false
   },
   "outputs": [
    {
     "output_type": "execute_result",
     "data": {
      "text/plain": [
       "ODATEDW     object\n",
       "OSOURCE     object\n",
       "TCODE        int64\n",
       "STATE       object\n",
       "ZIP         object\n",
       "             ...  \n",
       "RFA_2A      object\n",
       "MDMAUD_R    object\n",
       "MDMAUD_F    object\n",
       "MDMAUD_A    object\n",
       "GEOCODE2    object\n",
       "Length: 177, dtype: object"
      ]
     },
     "metadata": {},
     "execution_count": 5
    }
   ],
   "source": [
    "# Get the selected features\n",
    "selected_feats = features_list[features_list['Selected'] == 'x']['FeaturesName']\n",
    "df = data[selected_feats].copy()\n",
    "df.dtypes"
   ]
  },
  {
   "cell_type": "markdown",
   "metadata": {},
   "source": [
    "## **Feature engineering:** <a class=\"anchor\" id=\"1\"></a>\n"
   ]
  },
  {
   "cell_type": "markdown",
   "metadata": {},
   "source": [
    "### **2.1. Getting the Age of every donor:** <a class=\"anchor\" id=\"1\"></a>"
   ]
  },
  {
   "cell_type": "markdown",
   "metadata": {},
   "source": [
    "We notice that there is one feature called DOB - Day of Birth of the donors, so we thought it would we useful to generate the age of the donors as one feature. The age will be calculate using the current time (2020)"
   ]
  },
  {
   "cell_type": "code",
   "execution_count": 6,
   "metadata": {},
   "outputs": [
    {
     "output_type": "execute_result",
     "data": {
      "text/plain": [
       "23883"
      ]
     },
     "metadata": {},
     "execution_count": 6
    }
   ],
   "source": [
    "#DOB null values\n",
    "df['DOB'].isnull().sum()"
   ]
  },
  {
   "cell_type": "code",
   "execution_count": 7,
   "metadata": {},
   "outputs": [
    {
     "output_type": "execute_result",
     "data": {
      "text/plain": [
       "0    1957-12-01\n",
       "1    1972-02-01\n",
       "2           NaN\n",
       "3    1948-01-01\n",
       "4    1940-01-01\n",
       "Name: DOB, dtype: object"
      ]
     },
     "metadata": {},
     "execution_count": 7
    }
   ],
   "source": [
    "df['DOB'].head()"
   ]
  },
  {
   "cell_type": "code",
   "execution_count": 8,
   "metadata": {},
   "outputs": [],
   "source": [
    "#converting the DOB column to datetime type\n",
    "parsed_dates = pd.to_datetime(df.DOB, format='%Y-%m-%d' , errors='coerce') #errors='coerce' meant to return NaN in case of exception\n",
    "df['DOB'] = parsed_dates"
   ]
  },
  {
   "cell_type": "code",
   "execution_count": 9,
   "metadata": {},
   "outputs": [],
   "source": [
    "#Getting the age of every donor today\n",
    "df['Age'] = ((pd.datetime.today() - df['DOB']).dt.days/365).floordiv(other=1).astype('int',errors='ignore')"
   ]
  },
  {
   "cell_type": "code",
   "execution_count": 10,
   "metadata": {},
   "outputs": [],
   "source": [
    "# Append new features to the feature list\n",
    "feats = pd.DataFrame([['AGE', \"Age of the donor\",\"Characteristics\",\"\",\"x\" ]],\n",
    "columns=features_list.columns)\n",
    "features_list= features_list.append(feats,ignore_index=True)"
   ]
  },
  {
   "cell_type": "code",
   "execution_count": 11,
   "metadata": {},
   "outputs": [],
   "source": [
    "# Now, drop de DOB column as it is no longer useful\n",
    "df.drop('DOB',inplace=True,axis = 1)"
   ]
  },
  {
   "cell_type": "code",
   "execution_count": 12,
   "metadata": {},
   "outputs": [],
   "source": [
    "#fixing the null values with median of ages\n",
    "df.Age = df.Age.fillna(df.Age.median())"
   ]
  },
  {
   "cell_type": "code",
   "execution_count": 13,
   "metadata": {},
   "outputs": [
    {
     "output_type": "execute_result",
     "data": {
      "text/plain": [
       "0"
      ]
     },
     "metadata": {},
     "execution_count": 13
    }
   ],
   "source": [
    "df.Age.isnull().sum()"
   ]
  },
  {
   "cell_type": "code",
   "execution_count": 14,
   "metadata": {},
   "outputs": [
    {
     "output_type": "execute_result",
     "data": {
      "text/plain": [
       "<AxesSubplot:>"
      ]
     },
     "metadata": {},
     "execution_count": 14
    }
   ],
   "source": [
    "# Check for the box plot and distribution\n",
    "df.boxplot(['Age'])\n",
    "# Here we can see that we have outliers, we will access this in the up coming session"
   ]
  },
  {
   "cell_type": "code",
   "execution_count": null,
   "metadata": {},
   "outputs": [],
   "source": []
  },
  {
   "cell_type": "markdown",
   "metadata": {},
   "source": [
    "### **2.2. Converting binary features:** <a class=\"anchor\" id=\"1\"></a>"
   ]
  },
  {
   "cell_type": "markdown",
   "metadata": {},
   "source": [
    "There are features containing binary information but they are not in the right data type for processing, so we convert them to binary type"
   ]
  },
  {
   "cell_type": "code",
   "execution_count": 15,
   "metadata": {
    "scrolled": true
   },
   "outputs": [
    {
     "output_type": "execute_result",
     "data": {
      "text/plain": [
       "  COLLECT1 VETERANS BIBLE CATLG HOMEE PETS CDPLAY STEREO PCOWNERS PHOTO  \\\n",
       "0                                                                         \n",
       "1                                                                         \n",
       "2                                                                         \n",
       "3                                                                         \n",
       "4                       Y     Y                        Y                  \n",
       "\n",
       "  CRAFTS FISHER GARDENIN BOATS WALKER KIDSTUFF CARDS PLATES  \n",
       "0                                                            \n",
       "1                                                            \n",
       "2                                                            \n",
       "3                                                            \n",
       "4      Y               Y            Y              Y         "
      ],
      "text/html": "<div>\n<style scoped>\n    .dataframe tbody tr th:only-of-type {\n        vertical-align: middle;\n    }\n\n    .dataframe tbody tr th {\n        vertical-align: top;\n    }\n\n    .dataframe thead th {\n        text-align: right;\n    }\n</style>\n<table border=\"1\" class=\"dataframe\">\n  <thead>\n    <tr style=\"text-align: right;\">\n      <th></th>\n      <th>COLLECT1</th>\n      <th>VETERANS</th>\n      <th>BIBLE</th>\n      <th>CATLG</th>\n      <th>HOMEE</th>\n      <th>PETS</th>\n      <th>CDPLAY</th>\n      <th>STEREO</th>\n      <th>PCOWNERS</th>\n      <th>PHOTO</th>\n      <th>CRAFTS</th>\n      <th>FISHER</th>\n      <th>GARDENIN</th>\n      <th>BOATS</th>\n      <th>WALKER</th>\n      <th>KIDSTUFF</th>\n      <th>CARDS</th>\n      <th>PLATES</th>\n    </tr>\n  </thead>\n  <tbody>\n    <tr>\n      <th>0</th>\n      <td></td>\n      <td></td>\n      <td></td>\n      <td></td>\n      <td></td>\n      <td></td>\n      <td></td>\n      <td></td>\n      <td></td>\n      <td></td>\n      <td></td>\n      <td></td>\n      <td></td>\n      <td></td>\n      <td></td>\n      <td></td>\n      <td></td>\n      <td></td>\n    </tr>\n    <tr>\n      <th>1</th>\n      <td></td>\n      <td></td>\n      <td></td>\n      <td></td>\n      <td></td>\n      <td></td>\n      <td></td>\n      <td></td>\n      <td></td>\n      <td></td>\n      <td></td>\n      <td></td>\n      <td></td>\n      <td></td>\n      <td></td>\n      <td></td>\n      <td></td>\n      <td></td>\n    </tr>\n    <tr>\n      <th>2</th>\n      <td></td>\n      <td></td>\n      <td></td>\n      <td></td>\n      <td></td>\n      <td></td>\n      <td></td>\n      <td></td>\n      <td></td>\n      <td></td>\n      <td></td>\n      <td></td>\n      <td></td>\n      <td></td>\n      <td></td>\n      <td></td>\n      <td></td>\n      <td></td>\n    </tr>\n    <tr>\n      <th>3</th>\n      <td></td>\n      <td></td>\n      <td></td>\n      <td></td>\n      <td></td>\n      <td></td>\n      <td></td>\n      <td></td>\n      <td></td>\n      <td></td>\n      <td></td>\n      <td></td>\n      <td></td>\n      <td></td>\n      <td></td>\n      <td></td>\n      <td></td>\n      <td></td>\n    </tr>\n    <tr>\n      <th>4</th>\n      <td></td>\n      <td></td>\n      <td>Y</td>\n      <td>Y</td>\n      <td></td>\n      <td></td>\n      <td></td>\n      <td>Y</td>\n      <td></td>\n      <td></td>\n      <td>Y</td>\n      <td></td>\n      <td>Y</td>\n      <td></td>\n      <td>Y</td>\n      <td></td>\n      <td>Y</td>\n      <td></td>\n    </tr>\n  </tbody>\n</table>\n</div>"
     },
     "metadata": {},
     "execution_count": 15
    }
   ],
   "source": [
    "df.loc[:, 'COLLECT1':'PLATES'].head()"
   ]
  },
  {
   "cell_type": "code",
   "execution_count": 16,
   "metadata": {},
   "outputs": [
    {
     "output_type": "execute_result",
     "data": {
      "text/plain": [
       "   COLLECT1  VETERANS  BIBLE  CATLG  HOMEE  PETS  CDPLAY  STEREO  PCOWNERS  \\\n",
       "0         0         0      0      0      0     0       0       0         0   \n",
       "1         0         0      0      0      0     0       0       0         0   \n",
       "2         0         0      0      0      0     0       0       0         0   \n",
       "3         0         0      0      0      0     0       0       0         0   \n",
       "4         0         0      1      1      0     0       0       1         0   \n",
       "\n",
       "   PHOTO  CRAFTS  FISHER  GARDENIN  BOATS  WALKER  KIDSTUFF  CARDS  PLATES  \n",
       "0      0       0       0         0      0       0         0      0       0  \n",
       "1      0       0       0         0      0       0         0      0       0  \n",
       "2      0       0       0         0      0       0         0      0       0  \n",
       "3      0       0       0         0      0       0         0      0       0  \n",
       "4      0       1       0         1      0       1         0      1       0  "
      ],
      "text/html": "<div>\n<style scoped>\n    .dataframe tbody tr th:only-of-type {\n        vertical-align: middle;\n    }\n\n    .dataframe tbody tr th {\n        vertical-align: top;\n    }\n\n    .dataframe thead th {\n        text-align: right;\n    }\n</style>\n<table border=\"1\" class=\"dataframe\">\n  <thead>\n    <tr style=\"text-align: right;\">\n      <th></th>\n      <th>COLLECT1</th>\n      <th>VETERANS</th>\n      <th>BIBLE</th>\n      <th>CATLG</th>\n      <th>HOMEE</th>\n      <th>PETS</th>\n      <th>CDPLAY</th>\n      <th>STEREO</th>\n      <th>PCOWNERS</th>\n      <th>PHOTO</th>\n      <th>CRAFTS</th>\n      <th>FISHER</th>\n      <th>GARDENIN</th>\n      <th>BOATS</th>\n      <th>WALKER</th>\n      <th>KIDSTUFF</th>\n      <th>CARDS</th>\n      <th>PLATES</th>\n    </tr>\n  </thead>\n  <tbody>\n    <tr>\n      <th>0</th>\n      <td>0</td>\n      <td>0</td>\n      <td>0</td>\n      <td>0</td>\n      <td>0</td>\n      <td>0</td>\n      <td>0</td>\n      <td>0</td>\n      <td>0</td>\n      <td>0</td>\n      <td>0</td>\n      <td>0</td>\n      <td>0</td>\n      <td>0</td>\n      <td>0</td>\n      <td>0</td>\n      <td>0</td>\n      <td>0</td>\n    </tr>\n    <tr>\n      <th>1</th>\n      <td>0</td>\n      <td>0</td>\n      <td>0</td>\n      <td>0</td>\n      <td>0</td>\n      <td>0</td>\n      <td>0</td>\n      <td>0</td>\n      <td>0</td>\n      <td>0</td>\n      <td>0</td>\n      <td>0</td>\n      <td>0</td>\n      <td>0</td>\n      <td>0</td>\n      <td>0</td>\n      <td>0</td>\n      <td>0</td>\n    </tr>\n    <tr>\n      <th>2</th>\n      <td>0</td>\n      <td>0</td>\n      <td>0</td>\n      <td>0</td>\n      <td>0</td>\n      <td>0</td>\n      <td>0</td>\n      <td>0</td>\n      <td>0</td>\n      <td>0</td>\n      <td>0</td>\n      <td>0</td>\n      <td>0</td>\n      <td>0</td>\n      <td>0</td>\n      <td>0</td>\n      <td>0</td>\n      <td>0</td>\n    </tr>\n    <tr>\n      <th>3</th>\n      <td>0</td>\n      <td>0</td>\n      <td>0</td>\n      <td>0</td>\n      <td>0</td>\n      <td>0</td>\n      <td>0</td>\n      <td>0</td>\n      <td>0</td>\n      <td>0</td>\n      <td>0</td>\n      <td>0</td>\n      <td>0</td>\n      <td>0</td>\n      <td>0</td>\n      <td>0</td>\n      <td>0</td>\n      <td>0</td>\n    </tr>\n    <tr>\n      <th>4</th>\n      <td>0</td>\n      <td>0</td>\n      <td>1</td>\n      <td>1</td>\n      <td>0</td>\n      <td>0</td>\n      <td>0</td>\n      <td>1</td>\n      <td>0</td>\n      <td>0</td>\n      <td>1</td>\n      <td>0</td>\n      <td>1</td>\n      <td>0</td>\n      <td>1</td>\n      <td>0</td>\n      <td>1</td>\n      <td>0</td>\n    </tr>\n  </tbody>\n</table>\n</div>"
     },
     "metadata": {},
     "execution_count": 16
    }
   ],
   "source": [
    "#Replace the values for booleans\n",
    "df.loc[:, 'COLLECT1':'PLATES'] = df.loc[:, 'COLLECT1':'PLATES'].replace(' ',0)\n",
    "df.loc[:, 'COLLECT1':'PLATES'] = df.loc[:, 'COLLECT1':'PLATES'].replace('Y',1)\n",
    "df.loc[:, 'COLLECT1':'PLATES'].head()"
   ]
  },
  {
   "cell_type": "code",
   "execution_count": 17,
   "metadata": {},
   "outputs": [],
   "source": [
    "# Plot the result\n",
    "plotdf = df.loc[:, 'COLLECT1':'PLATES'].apply(pd.value_counts)\n",
    "#plot pie charts for all the interests\n",
    "sns.set()\n",
    "fig, axes = plt.subplots(3, ceil(len(plotdf.columns.to_list()) / 3), figsize=(20,11))\n",
    "for ax, feat in zip(axes.flatten(), plotdf.columns.to_list()):\n",
    "    ax.pie(plotdf[feat])\n",
    "    ax.set_title(feat, y=-0.13)\n",
    "    ax.legend(plotdf.index)\n",
    "plt.show() "
   ]
  },
  {
   "cell_type": "markdown",
   "metadata": {},
   "source": [
    "### **2.3. Generate RFA status of the each donor before they are considered to be Lapsed Donor:** <a class=\"anchor\" id=\"1\"></a>"
   ]
  },
  {
   "cell_type": "markdown",
   "metadata": {},
   "source": [
    "Because all the donors which is investigated in this dataset is all Lapsed Donors as the date of the lasted promotion, so we will not able to undestand the 'Recency' charateristics if we only consider the most recent code of the donor (all 'Lapsed').  \n",
    "Therefore, we thought it would be interesting if we get the most recent type of code of each donor before they are considered to become Lapsed Donors"
   ]
  },
  {
   "cell_type": "markdown",
   "metadata": {},
   "source": [
    "We will consider the data in features **Donor's RFA status as of XXXX promotion date (XXXX is from 'RFA_3'to 'RFA_24')**"
   ]
  },
  {
   "cell_type": "code",
   "execution_count": 18,
   "metadata": {},
   "outputs": [
    {
     "output_type": "execute_result",
     "data": {
      "text/plain": [
       "  RFA_USEDTO_R RFA_USEDTO_F RFA_USEDTO_A\n",
       "0            S            4            E\n",
       "1            A            2            G\n",
       "2            S            4            E\n",
       "3            S            4            E\n",
       "4            A            2            F"
      ],
      "text/html": "<div>\n<style scoped>\n    .dataframe tbody tr th:only-of-type {\n        vertical-align: middle;\n    }\n\n    .dataframe tbody tr th {\n        vertical-align: top;\n    }\n\n    .dataframe thead th {\n        text-align: right;\n    }\n</style>\n<table border=\"1\" class=\"dataframe\">\n  <thead>\n    <tr style=\"text-align: right;\">\n      <th></th>\n      <th>RFA_USEDTO_R</th>\n      <th>RFA_USEDTO_F</th>\n      <th>RFA_USEDTO_A</th>\n    </tr>\n  </thead>\n  <tbody>\n    <tr>\n      <th>0</th>\n      <td>S</td>\n      <td>4</td>\n      <td>E</td>\n    </tr>\n    <tr>\n      <th>1</th>\n      <td>A</td>\n      <td>2</td>\n      <td>G</td>\n    </tr>\n    <tr>\n      <th>2</th>\n      <td>S</td>\n      <td>4</td>\n      <td>E</td>\n    </tr>\n    <tr>\n      <th>3</th>\n      <td>S</td>\n      <td>4</td>\n      <td>E</td>\n    </tr>\n    <tr>\n      <th>4</th>\n      <td>A</td>\n      <td>2</td>\n      <td>F</td>\n    </tr>\n  </tbody>\n</table>\n</div>"
     },
     "metadata": {},
     "execution_count": 18
    }
   ],
   "source": [
    "# Replace the blank values with NaN value\n",
    "df.loc[:,'RFA_3':'RFA_24'] = df.loc[:,'RFA_3':'RFA_24'].replace({' ' : np.NaN})\n",
    "# Find the second most recent type of a donor by the left-most available values from RFA_3 to RFA_24\n",
    "df['RFA_USEDTO'] = df.loc[:,'RFA_3':'RFA_24'].fillna(method = 'bfill',axis = 1)['RFA_3']\n",
    "# Renerate R, F, A features\n",
    "df['RFA_USEDTO_R'] = df['RFA_USEDTO'].apply(lambda x: str(x)[0])\n",
    "df['RFA_USEDTO_F'] = df['RFA_USEDTO'].apply(lambda x: str(x)[1])\n",
    "df['RFA_USEDTO_A'] = df['RFA_USEDTO'].apply(lambda x: str(x)[2])\n",
    "\n",
    "# Add to the selected features list\n",
    "feats = pd.DataFrame([['RFA_USEDTO_R', \"Recency code of the previous status of the donor\",\"Promotion and Gift\",\"\",\"x\" ],\n",
    "                    ['RFA_USEDTO_F', \"Frequency code of the previous status of the donor\",\"Promotion and Gift\",\"\",\"x\"], \n",
    "                    ['RFA_USEDTO_F', \"Amount code of the previous status of the donor\",\"Promotion and Gift\",\"\",\"x\"]],\n",
    "                    columns=features_list.columns)\n",
    "features_list= features_list.append(feats,ignore_index=True)\n",
    "\n",
    "# Now drop the features that is no longer useful\n",
    "df.drop(labels='RFA_USEDTO',axis=1,inplace = True, errors='ignore')\n",
    "# Check for the result\n",
    "df.loc[:,'RFA_USEDTO_R':'RFA_USEDTO_A'].head()"
   ]
  },
  {
   "cell_type": "code",
   "execution_count": 19,
   "metadata": {
    "scrolled": true
   },
   "outputs": [
    {
     "output_type": "execute_result",
     "data": {
      "text/plain": [
       "      ODATEDW OSOURCE  TCODE STATE    ZIP MAILCODE MDMAUD DOMAIN HOMEOWNR  \\\n",
       "0  2009-01-01     GRI      0    IL  61081            XXXX     T2            \n",
       "1  2014-01-01     BOA      1    CA  91326            XXXX     S1        H   \n",
       "2  2010-01-01     AMH      1    NC  27017            XXXX     R2        U   \n",
       "3  2007-01-01     BRY      0    CA  95953            XXXX     R2        U   \n",
       "4  2006-01-01              0    FL  33176            XXXX     S2        H   \n",
       "\n",
       "  CHILD03  ... RFA_2F RFA_2A MDMAUD_R  MDMAUD_F  MDMAUD_A GEOCODE2   Age  \\\n",
       "0          ...      4      E        X         X         X        C  63.0   \n",
       "1          ...      2      G        X         X         X        A  48.0   \n",
       "2          ...      4      E        X         X         X        C  62.0   \n",
       "3          ...      4      E        X         X         X        C  72.0   \n",
       "4          ...      2      F        X         X         X        A  80.0   \n",
       "\n",
       "   RFA_USEDTO_R  RFA_USEDTO_F  RFA_USEDTO_A  \n",
       "0             S             4             E  \n",
       "1             A             2             G  \n",
       "2             S             4             E  \n",
       "3             S             4             E  \n",
       "4             A             2             F  \n",
       "\n",
       "[5 rows x 158 columns]"
      ],
      "text/html": "<div>\n<style scoped>\n    .dataframe tbody tr th:only-of-type {\n        vertical-align: middle;\n    }\n\n    .dataframe tbody tr th {\n        vertical-align: top;\n    }\n\n    .dataframe thead th {\n        text-align: right;\n    }\n</style>\n<table border=\"1\" class=\"dataframe\">\n  <thead>\n    <tr style=\"text-align: right;\">\n      <th></th>\n      <th>ODATEDW</th>\n      <th>OSOURCE</th>\n      <th>TCODE</th>\n      <th>STATE</th>\n      <th>ZIP</th>\n      <th>MAILCODE</th>\n      <th>MDMAUD</th>\n      <th>DOMAIN</th>\n      <th>HOMEOWNR</th>\n      <th>CHILD03</th>\n      <th>...</th>\n      <th>RFA_2F</th>\n      <th>RFA_2A</th>\n      <th>MDMAUD_R</th>\n      <th>MDMAUD_F</th>\n      <th>MDMAUD_A</th>\n      <th>GEOCODE2</th>\n      <th>Age</th>\n      <th>RFA_USEDTO_R</th>\n      <th>RFA_USEDTO_F</th>\n      <th>RFA_USEDTO_A</th>\n    </tr>\n  </thead>\n  <tbody>\n    <tr>\n      <th>0</th>\n      <td>2009-01-01</td>\n      <td>GRI</td>\n      <td>0</td>\n      <td>IL</td>\n      <td>61081</td>\n      <td></td>\n      <td>XXXX</td>\n      <td>T2</td>\n      <td></td>\n      <td></td>\n      <td>...</td>\n      <td>4</td>\n      <td>E</td>\n      <td>X</td>\n      <td>X</td>\n      <td>X</td>\n      <td>C</td>\n      <td>63.0</td>\n      <td>S</td>\n      <td>4</td>\n      <td>E</td>\n    </tr>\n    <tr>\n      <th>1</th>\n      <td>2014-01-01</td>\n      <td>BOA</td>\n      <td>1</td>\n      <td>CA</td>\n      <td>91326</td>\n      <td></td>\n      <td>XXXX</td>\n      <td>S1</td>\n      <td>H</td>\n      <td></td>\n      <td>...</td>\n      <td>2</td>\n      <td>G</td>\n      <td>X</td>\n      <td>X</td>\n      <td>X</td>\n      <td>A</td>\n      <td>48.0</td>\n      <td>A</td>\n      <td>2</td>\n      <td>G</td>\n    </tr>\n    <tr>\n      <th>2</th>\n      <td>2010-01-01</td>\n      <td>AMH</td>\n      <td>1</td>\n      <td>NC</td>\n      <td>27017</td>\n      <td></td>\n      <td>XXXX</td>\n      <td>R2</td>\n      <td>U</td>\n      <td></td>\n      <td>...</td>\n      <td>4</td>\n      <td>E</td>\n      <td>X</td>\n      <td>X</td>\n      <td>X</td>\n      <td>C</td>\n      <td>62.0</td>\n      <td>S</td>\n      <td>4</td>\n      <td>E</td>\n    </tr>\n    <tr>\n      <th>3</th>\n      <td>2007-01-01</td>\n      <td>BRY</td>\n      <td>0</td>\n      <td>CA</td>\n      <td>95953</td>\n      <td></td>\n      <td>XXXX</td>\n      <td>R2</td>\n      <td>U</td>\n      <td></td>\n      <td>...</td>\n      <td>4</td>\n      <td>E</td>\n      <td>X</td>\n      <td>X</td>\n      <td>X</td>\n      <td>C</td>\n      <td>72.0</td>\n      <td>S</td>\n      <td>4</td>\n      <td>E</td>\n    </tr>\n    <tr>\n      <th>4</th>\n      <td>2006-01-01</td>\n      <td></td>\n      <td>0</td>\n      <td>FL</td>\n      <td>33176</td>\n      <td></td>\n      <td>XXXX</td>\n      <td>S2</td>\n      <td>H</td>\n      <td></td>\n      <td>...</td>\n      <td>2</td>\n      <td>F</td>\n      <td>X</td>\n      <td>X</td>\n      <td>X</td>\n      <td>A</td>\n      <td>80.0</td>\n      <td>A</td>\n      <td>2</td>\n      <td>F</td>\n    </tr>\n  </tbody>\n</table>\n<p>5 rows × 158 columns</p>\n</div>"
     },
     "metadata": {},
     "execution_count": 19
    }
   ],
   "source": [
    "# Drop the RFA status of donor as they are no longer useful\n",
    "df.drop(labels=df.loc[:,'RFA_3':'RFA_24'].columns,axis=1,inplace=True,errors='ignore')\n",
    "df.head()"
   ]
  },
  {
   "cell_type": "markdown",
   "metadata": {},
   "source": [
    "## Now we have 158 features"
   ]
  },
  {
   "cell_type": "code",
   "execution_count": 20,
   "metadata": {
    "scrolled": true
   },
   "outputs": [
    {
     "output_type": "execute_result",
     "data": {
      "text/plain": [
       "  FeaturesName                                    Description  \\\n",
       "0      ODATEDW        Origin Date. Date of donor's first gift   \n",
       "1      OSOURCE                                  Origin Source   \n",
       "2        TCODE                               Donor title code   \n",
       "3        STATE  State abbreviation (a nominal/symbolic field)   \n",
       "4          ZIP             Zipcode (a nominal/symbolic field)   \n",
       "\n",
       "          Category SubCategory Selected  \n",
       "0  Characteristics         NaN        x  \n",
       "1  Characteristics         NaN        x  \n",
       "2  Characteristics         NaN        x  \n",
       "3  Characteristics         NaN        x  \n",
       "4  Characteristics         NaN        x  "
      ],
      "text/html": "<div>\n<style scoped>\n    .dataframe tbody tr th:only-of-type {\n        vertical-align: middle;\n    }\n\n    .dataframe tbody tr th {\n        vertical-align: top;\n    }\n\n    .dataframe thead th {\n        text-align: right;\n    }\n</style>\n<table border=\"1\" class=\"dataframe\">\n  <thead>\n    <tr style=\"text-align: right;\">\n      <th></th>\n      <th>FeaturesName</th>\n      <th>Description</th>\n      <th>Category</th>\n      <th>SubCategory</th>\n      <th>Selected</th>\n    </tr>\n  </thead>\n  <tbody>\n    <tr>\n      <th>0</th>\n      <td>ODATEDW</td>\n      <td>Origin Date. Date of donor's first gift</td>\n      <td>Characteristics</td>\n      <td>NaN</td>\n      <td>x</td>\n    </tr>\n    <tr>\n      <th>1</th>\n      <td>OSOURCE</td>\n      <td>Origin Source</td>\n      <td>Characteristics</td>\n      <td>NaN</td>\n      <td>x</td>\n    </tr>\n    <tr>\n      <th>2</th>\n      <td>TCODE</td>\n      <td>Donor title code</td>\n      <td>Characteristics</td>\n      <td>NaN</td>\n      <td>x</td>\n    </tr>\n    <tr>\n      <th>3</th>\n      <td>STATE</td>\n      <td>State abbreviation (a nominal/symbolic field)</td>\n      <td>Characteristics</td>\n      <td>NaN</td>\n      <td>x</td>\n    </tr>\n    <tr>\n      <th>4</th>\n      <td>ZIP</td>\n      <td>Zipcode (a nominal/symbolic field)</td>\n      <td>Characteristics</td>\n      <td>NaN</td>\n      <td>x</td>\n    </tr>\n  </tbody>\n</table>\n</div>"
     },
     "metadata": {},
     "execution_count": 20
    }
   ],
   "source": [
    "selected_feats = features_list.loc[features_list['FeaturesName'].isin(df.columns),:]\n",
    "selected_feats.head()"
   ]
  },
  {
   "cell_type": "code",
   "execution_count": 21,
   "metadata": {},
   "outputs": [
    {
     "output_type": "execute_result",
     "data": {
      "text/plain": [
       "                    FeaturesName\n",
       "Category                        \n",
       "Characteristics               22\n",
       "Interests                     19\n",
       "Mail response                 14\n",
       "Neighborhood                  75\n",
       "Promotion and Gift            27"
      ],
      "text/html": "<div>\n<style scoped>\n    .dataframe tbody tr th:only-of-type {\n        vertical-align: middle;\n    }\n\n    .dataframe tbody tr th {\n        vertical-align: top;\n    }\n\n    .dataframe thead th {\n        text-align: right;\n    }\n</style>\n<table border=\"1\" class=\"dataframe\">\n  <thead>\n    <tr style=\"text-align: right;\">\n      <th></th>\n      <th>FeaturesName</th>\n    </tr>\n    <tr>\n      <th>Category</th>\n      <th></th>\n    </tr>\n  </thead>\n  <tbody>\n    <tr>\n      <th>Characteristics</th>\n      <td>22</td>\n    </tr>\n    <tr>\n      <th>Interests</th>\n      <td>19</td>\n    </tr>\n    <tr>\n      <th>Mail response</th>\n      <td>14</td>\n    </tr>\n    <tr>\n      <th>Neighborhood</th>\n      <td>75</td>\n    </tr>\n    <tr>\n      <th>Promotion and Gift</th>\n      <td>27</td>\n    </tr>\n  </tbody>\n</table>\n</div>"
     },
     "metadata": {},
     "execution_count": 21
    }
   ],
   "source": [
    "# Summary by category\n",
    "pd.DataFrame(selected_feats.groupby('Category')['FeaturesName'].count())"
   ]
  },
  {
   "cell_type": "markdown",
   "metadata": {},
   "source": [
    "# **3. Data cleanning:** <a class=\"anchor\" id=\"1\"></a>"
   ]
  },
  {
   "source": [
    "## IQR Outlier Remover"
   ],
   "cell_type": "markdown",
   "metadata": {}
  },
  {
   "cell_type": "code",
   "execution_count": 22,
   "metadata": {},
   "outputs": [],
   "source": [
    "def IQR_OutlierRemover(df,column,n):\n",
    "    #give the function the column that you want to filter and the IQR multiplicator    \n",
    "    # Compute the IQR\n",
    "    q1= df[column].quantile(0.25)\n",
    "    q3= df[column].quantile(0.75)\n",
    "    Iqr = q3 - q1\n",
    "\n",
    "    # Compute upper and lower limit (lower_limit = Q1 -1.5*IQR | upper_limit = Q3 + 1.5*IQR)\n",
    "    lower_lim = q1 - n*Iqr\n",
    "    upper_lim = q3 + n*Iqr\n",
    "\n",
    "    initial_len = df.shape[0]\n",
    "\n",
    "    df = df[~((df[column] < lower_lim) | (df[column] > upper_lim))]\n",
    "\n",
    "    len_afterremov = df.shape[0]\n",
    "\n",
    "    print('Percentage of data kept after removing outliers:', np.round(len_afterremov / initial_len, 4))\n",
    "\n",
    "    return df"
   ]
  },
  {
   "cell_type": "code",
   "execution_count": 23,
   "metadata": {},
   "outputs": [
    {
     "output_type": "execute_result",
     "data": {
      "text/plain": [
       "NUMCHLD     83026\n",
       "MBCOLECT    52914\n",
       "PUBOPP      52854\n",
       "PUBPHOTO    52854\n",
       "PUBNEWFN    52854\n",
       "            ...  \n",
       "TPE10           0\n",
       "PEC1            0\n",
       "TPE9            0\n",
       "TPE8            0\n",
       "ODATEDW         0\n",
       "Length: 158, dtype: int64"
      ]
     },
     "metadata": {},
     "execution_count": 23
    }
   ],
   "source": [
    "df.isnull().sum().sort_values(ascending=False)"
   ]
  },
  {
   "source": [
    "### Age (Column created)"
   ],
   "cell_type": "markdown",
   "metadata": {}
  },
  {
   "cell_type": "code",
   "execution_count": 24,
   "metadata": {},
   "outputs": [
    {
     "output_type": "stream",
     "name": "stdout",
     "text": [
      "Percentage of data kept after removing outliers: 0.9956\n"
     ]
    }
   ],
   "source": [
    "df = IQR_OutlierRemover(df,'Age',2)"
   ]
  },
  {
   "source": [
    "### NUMCHILD"
   ],
   "cell_type": "markdown",
   "metadata": {}
  },
  {
   "cell_type": "code",
   "execution_count": 25,
   "metadata": {},
   "outputs": [],
   "source": [
    "#too many null values for Number of Childrens so we will drop that column\n",
    "df.drop('NUMCHLD',inplace=True,axis = 1)"
   ]
  },
  {
   "source": [
    "### OSOURCE"
   ],
   "cell_type": "markdown",
   "metadata": {}
  },
  {
   "cell_type": "code",
   "execution_count": 26,
   "metadata": {},
   "outputs": [],
   "source": [
    "#droping invalid values for column OSOURCE\n",
    "df = df[df.OSOURCE != ' ']"
   ]
  },
  {
   "source": [
    "### ZIP"
   ],
   "cell_type": "markdown",
   "metadata": {}
  },
  {
   "cell_type": "code",
   "execution_count": 27,
   "metadata": {},
   "outputs": [],
   "source": [
    "#clean all the ZIP values with hifén\n",
    "df.ZIP = df.ZIP.replace(\"-\",\"\", regex=True)"
   ]
  },
  {
   "source": [
    "### MAILCODE"
   ],
   "cell_type": "markdown",
   "metadata": {}
  },
  {
   "cell_type": "code",
   "execution_count": 28,
   "metadata": {},
   "outputs": [],
   "source": [
    "#Convert Mailcode options to binary\n",
    "df.loc[:, 'MAILCODE'] = df.loc[:, 'MAILCODE'].replace(' ',1)\n",
    "df.loc[:, 'MAILCODE'] = df.loc[:, 'MAILCODE'].replace('B',0)"
   ]
  },
  {
   "source": [
    "### DOMAIN"
   ],
   "cell_type": "markdown",
   "metadata": {}
  },
  {
   "cell_type": "code",
   "execution_count": 29,
   "metadata": {},
   "outputs": [
    {
     "output_type": "execute_result",
     "data": {
      "text/plain": [
       "0"
      ]
     },
     "metadata": {},
     "execution_count": 29
    }
   ],
   "source": [
    "df.DOMAIN.isnull().sum()"
   ]
  },
  {
   "cell_type": "code",
   "execution_count": 30,
   "metadata": {},
   "outputs": [
    {
     "output_type": "execute_result",
     "data": {
      "text/plain": [
       "array(['T2', 'S1', 'R2', 'T1', 'R3', 'S2', 'U1', 'C2', 'C1', 'U3', ' ',\n",
       "       'U2', 'C3', 'U4', 'S3', 'T3', 'R1'], dtype=object)"
      ]
     },
     "metadata": {},
     "execution_count": 30
    }
   ],
   "source": [
    "df.DOMAIN.unique()"
   ]
  },
  {
   "cell_type": "code",
   "execution_count": 31,
   "metadata": {},
   "outputs": [],
   "source": [
    "#droping invalid values for column DOMAIN\n",
    "df = df[df.DOMAIN != ' ']"
   ]
  },
  {
   "cell_type": "code",
   "execution_count": 32,
   "metadata": {},
   "outputs": [
    {
     "output_type": "execute_result",
     "data": {
      "text/plain": [
       "          ODATEDW OSOURCE  TCODE STATE    ZIP  MAILCODE MDMAUD DOMAIN  \\\n",
       "0      2009-01-01     GRI      0    IL  61081         1   XXXX     T2   \n",
       "1      2014-01-01     BOA      1    CA  91326         1   XXXX     S1   \n",
       "2      2010-01-01     AMH      1    NC  27017         1   XXXX     R2   \n",
       "3      2007-01-01     BRY      0    CA  95953         1   XXXX     R2   \n",
       "5      2014-01-01     CWR      0    AL  35603         1   XXXX     T2   \n",
       "...           ...     ...    ...   ...    ...       ...    ...    ...   \n",
       "95407  2016-01-01     ASE      1    AK  99504         1   XXXX     C2   \n",
       "95408  2016-01-01     DCD      1    TX  77379         1   XXXX     C1   \n",
       "95409  2015-01-01     MBC      1    MI  48910         1   XXXX     C3   \n",
       "95410  2006-01-01     PRV      0    CA  91320         1   XXXX     C1   \n",
       "95411  2008-01-01     MCC      2    NC  28409         1   C1CM     C1   \n",
       "\n",
       "      HOMEOWNR CHILD03  ... RFA_2F RFA_2A MDMAUD_R  MDMAUD_F MDMAUD_A  \\\n",
       "0                       ...      4      E        X         X        X   \n",
       "1            H          ...      2      G        X         X        X   \n",
       "2            U          ...      4      E        X         X        X   \n",
       "3            U          ...      4      E        X         X        X   \n",
       "5                       ...      1      F        X         X        X   \n",
       "...        ...     ...  ...    ...    ...      ...       ...      ...   \n",
       "95407                   ...      1      G        X         X        X   \n",
       "95408        H          ...      1      F        X         X        X   \n",
       "95409                   ...      3      E        X         X        X   \n",
       "95410        H          ...      4      F        X         X        X   \n",
       "95411        U          ...      1      G        C         1        C   \n",
       "\n",
       "       GEOCODE2   Age  RFA_USEDTO_R  RFA_USEDTO_F  RFA_USEDTO_A  \n",
       "0             C  63.0             S             4             E  \n",
       "1             A  48.0             A             2             G  \n",
       "2             C  62.0             S             4             E  \n",
       "3             C  72.0             S             4             E  \n",
       "5             C  62.0             A             1             F  \n",
       "...         ...   ...           ...           ...           ...  \n",
       "95407         C  62.0             F             1             G  \n",
       "95408         A  50.0             P             1             F  \n",
       "95409         B  62.0             S             4             E  \n",
       "95410         A  60.0             S             4             F  \n",
       "95411         C  82.0             A             1             G  \n",
       "\n",
       "[91873 rows x 157 columns]"
      ],
      "text/html": "<div>\n<style scoped>\n    .dataframe tbody tr th:only-of-type {\n        vertical-align: middle;\n    }\n\n    .dataframe tbody tr th {\n        vertical-align: top;\n    }\n\n    .dataframe thead th {\n        text-align: right;\n    }\n</style>\n<table border=\"1\" class=\"dataframe\">\n  <thead>\n    <tr style=\"text-align: right;\">\n      <th></th>\n      <th>ODATEDW</th>\n      <th>OSOURCE</th>\n      <th>TCODE</th>\n      <th>STATE</th>\n      <th>ZIP</th>\n      <th>MAILCODE</th>\n      <th>MDMAUD</th>\n      <th>DOMAIN</th>\n      <th>HOMEOWNR</th>\n      <th>CHILD03</th>\n      <th>...</th>\n      <th>RFA_2F</th>\n      <th>RFA_2A</th>\n      <th>MDMAUD_R</th>\n      <th>MDMAUD_F</th>\n      <th>MDMAUD_A</th>\n      <th>GEOCODE2</th>\n      <th>Age</th>\n      <th>RFA_USEDTO_R</th>\n      <th>RFA_USEDTO_F</th>\n      <th>RFA_USEDTO_A</th>\n    </tr>\n  </thead>\n  <tbody>\n    <tr>\n      <th>0</th>\n      <td>2009-01-01</td>\n      <td>GRI</td>\n      <td>0</td>\n      <td>IL</td>\n      <td>61081</td>\n      <td>1</td>\n      <td>XXXX</td>\n      <td>T2</td>\n      <td></td>\n      <td></td>\n      <td>...</td>\n      <td>4</td>\n      <td>E</td>\n      <td>X</td>\n      <td>X</td>\n      <td>X</td>\n      <td>C</td>\n      <td>63.0</td>\n      <td>S</td>\n      <td>4</td>\n      <td>E</td>\n    </tr>\n    <tr>\n      <th>1</th>\n      <td>2014-01-01</td>\n      <td>BOA</td>\n      <td>1</td>\n      <td>CA</td>\n      <td>91326</td>\n      <td>1</td>\n      <td>XXXX</td>\n      <td>S1</td>\n      <td>H</td>\n      <td></td>\n      <td>...</td>\n      <td>2</td>\n      <td>G</td>\n      <td>X</td>\n      <td>X</td>\n      <td>X</td>\n      <td>A</td>\n      <td>48.0</td>\n      <td>A</td>\n      <td>2</td>\n      <td>G</td>\n    </tr>\n    <tr>\n      <th>2</th>\n      <td>2010-01-01</td>\n      <td>AMH</td>\n      <td>1</td>\n      <td>NC</td>\n      <td>27017</td>\n      <td>1</td>\n      <td>XXXX</td>\n      <td>R2</td>\n      <td>U</td>\n      <td></td>\n      <td>...</td>\n      <td>4</td>\n      <td>E</td>\n      <td>X</td>\n      <td>X</td>\n      <td>X</td>\n      <td>C</td>\n      <td>62.0</td>\n      <td>S</td>\n      <td>4</td>\n      <td>E</td>\n    </tr>\n    <tr>\n      <th>3</th>\n      <td>2007-01-01</td>\n      <td>BRY</td>\n      <td>0</td>\n      <td>CA</td>\n      <td>95953</td>\n      <td>1</td>\n      <td>XXXX</td>\n      <td>R2</td>\n      <td>U</td>\n      <td></td>\n      <td>...</td>\n      <td>4</td>\n      <td>E</td>\n      <td>X</td>\n      <td>X</td>\n      <td>X</td>\n      <td>C</td>\n      <td>72.0</td>\n      <td>S</td>\n      <td>4</td>\n      <td>E</td>\n    </tr>\n    <tr>\n      <th>5</th>\n      <td>2014-01-01</td>\n      <td>CWR</td>\n      <td>0</td>\n      <td>AL</td>\n      <td>35603</td>\n      <td>1</td>\n      <td>XXXX</td>\n      <td>T2</td>\n      <td></td>\n      <td></td>\n      <td>...</td>\n      <td>1</td>\n      <td>F</td>\n      <td>X</td>\n      <td>X</td>\n      <td>X</td>\n      <td>C</td>\n      <td>62.0</td>\n      <td>A</td>\n      <td>1</td>\n      <td>F</td>\n    </tr>\n    <tr>\n      <th>...</th>\n      <td>...</td>\n      <td>...</td>\n      <td>...</td>\n      <td>...</td>\n      <td>...</td>\n      <td>...</td>\n      <td>...</td>\n      <td>...</td>\n      <td>...</td>\n      <td>...</td>\n      <td>...</td>\n      <td>...</td>\n      <td>...</td>\n      <td>...</td>\n      <td>...</td>\n      <td>...</td>\n      <td>...</td>\n      <td>...</td>\n      <td>...</td>\n      <td>...</td>\n      <td>...</td>\n    </tr>\n    <tr>\n      <th>95407</th>\n      <td>2016-01-01</td>\n      <td>ASE</td>\n      <td>1</td>\n      <td>AK</td>\n      <td>99504</td>\n      <td>1</td>\n      <td>XXXX</td>\n      <td>C2</td>\n      <td></td>\n      <td></td>\n      <td>...</td>\n      <td>1</td>\n      <td>G</td>\n      <td>X</td>\n      <td>X</td>\n      <td>X</td>\n      <td>C</td>\n      <td>62.0</td>\n      <td>F</td>\n      <td>1</td>\n      <td>G</td>\n    </tr>\n    <tr>\n      <th>95408</th>\n      <td>2016-01-01</td>\n      <td>DCD</td>\n      <td>1</td>\n      <td>TX</td>\n      <td>77379</td>\n      <td>1</td>\n      <td>XXXX</td>\n      <td>C1</td>\n      <td>H</td>\n      <td></td>\n      <td>...</td>\n      <td>1</td>\n      <td>F</td>\n      <td>X</td>\n      <td>X</td>\n      <td>X</td>\n      <td>A</td>\n      <td>50.0</td>\n      <td>P</td>\n      <td>1</td>\n      <td>F</td>\n    </tr>\n    <tr>\n      <th>95409</th>\n      <td>2015-01-01</td>\n      <td>MBC</td>\n      <td>1</td>\n      <td>MI</td>\n      <td>48910</td>\n      <td>1</td>\n      <td>XXXX</td>\n      <td>C3</td>\n      <td></td>\n      <td></td>\n      <td>...</td>\n      <td>3</td>\n      <td>E</td>\n      <td>X</td>\n      <td>X</td>\n      <td>X</td>\n      <td>B</td>\n      <td>62.0</td>\n      <td>S</td>\n      <td>4</td>\n      <td>E</td>\n    </tr>\n    <tr>\n      <th>95410</th>\n      <td>2006-01-01</td>\n      <td>PRV</td>\n      <td>0</td>\n      <td>CA</td>\n      <td>91320</td>\n      <td>1</td>\n      <td>XXXX</td>\n      <td>C1</td>\n      <td>H</td>\n      <td></td>\n      <td>...</td>\n      <td>4</td>\n      <td>F</td>\n      <td>X</td>\n      <td>X</td>\n      <td>X</td>\n      <td>A</td>\n      <td>60.0</td>\n      <td>S</td>\n      <td>4</td>\n      <td>F</td>\n    </tr>\n    <tr>\n      <th>95411</th>\n      <td>2008-01-01</td>\n      <td>MCC</td>\n      <td>2</td>\n      <td>NC</td>\n      <td>28409</td>\n      <td>1</td>\n      <td>C1CM</td>\n      <td>C1</td>\n      <td>U</td>\n      <td></td>\n      <td>...</td>\n      <td>1</td>\n      <td>G</td>\n      <td>C</td>\n      <td>1</td>\n      <td>C</td>\n      <td>C</td>\n      <td>82.0</td>\n      <td>A</td>\n      <td>1</td>\n      <td>G</td>\n    </tr>\n  </tbody>\n</table>\n<p>91873 rows × 157 columns</p>\n</div>"
     },
     "metadata": {},
     "execution_count": 32
    }
   ],
   "source": [
    "df"
   ]
  },
  {
   "source": [
    "### CHILD'S"
   ],
   "cell_type": "markdown",
   "metadata": {}
  },
  {
   "cell_type": "code",
   "execution_count": 33,
   "metadata": {},
   "outputs": [],
   "source": [
    "#columns are not interesting and have lots of null values\n",
    "df.drop(['CHILD03','CHILD07','CHILD12','CHILD18'],inplace=True,axis = 1)"
   ]
  },
  {
   "source": [
    "### HOMEOWNR"
   ],
   "cell_type": "markdown",
   "metadata": {}
  },
  {
   "cell_type": "code",
   "execution_count": 34,
   "metadata": {},
   "outputs": [],
   "source": [
    "#replace NaN values for Unknown \n",
    "df.HOMEOWNR.replace(' ','U',inplace=True)"
   ]
  },
  {
   "source": [
    "### INCOME"
   ],
   "cell_type": "markdown",
   "metadata": {}
  },
  {
   "cell_type": "code",
   "execution_count": 35,
   "metadata": {},
   "outputs": [],
   "source": [
    "#fill all null values of income for the median\n",
    "df.INCOME = df.INCOME.fillna(df.INCOME.median())"
   ]
  },
  {
   "source": [
    "### GENDER"
   ],
   "cell_type": "markdown",
   "metadata": {}
  },
  {
   "cell_type": "code",
   "execution_count": 36,
   "metadata": {},
   "outputs": [
    {
     "output_type": "stream",
     "name": "stdout",
     "text": [
      "['F' 'M' ' ' 'C' 'U' 'J' 'A']\n['F' 'M' 'U' 'J']\n"
     ]
    }
   ],
   "source": [
    "#checking all the values for the Gender\n",
    "#M = Male\n",
    "#F = Female\n",
    "#U = Unknown\n",
    "#J = Joint Account\n",
    "print(df['GENDER'].unique())\n",
    "\n",
    "#replacing unknown values to 'U'\n",
    "df['GENDER'].replace(' ','U',inplace=True)\n",
    "df['GENDER'].replace('A','U',inplace=True)\n",
    "df['GENDER'].replace('C','U',inplace=True)\n",
    "\n",
    "#checking the difference\n",
    "print(df['GENDER'].unique())"
   ]
  },
  {
   "source": [
    "### Wealth1"
   ],
   "cell_type": "markdown",
   "metadata": {}
  },
  {
   "cell_type": "code",
   "execution_count": 37,
   "metadata": {},
   "outputs": [
    {
     "output_type": "stream",
     "name": "stdout",
     "text": [
      "Null Values: 43105\n"
     ]
    }
   ],
   "source": [
    "print('Null Values:',df.WEALTH1.isnull().sum())\n",
    "df.drop('WEALTH1',inplace=True,axis = 1)"
   ]
  },
  {
   "source": [
    "### MB..."
   ],
   "cell_type": "markdown",
   "metadata": {}
  },
  {
   "cell_type": "code",
   "execution_count": 38,
   "metadata": {},
   "outputs": [],
   "source": [
    "#convert null values to unknown ones\n",
    "df[['MBCRAFT','MBGARDEN','MBBOOKS','MBCOLECT','MAGFAML','MAGFEM','MAGMALE','PUBGARDN','PUBCULIN','PUBHLTH','PUBDOITY','PUBNEWFN','PUBPHOTO','PUBOPP']] = df[['MBCRAFT','MBGARDEN','MBBOOKS','MBCOLECT','MAGFAML','MAGFEM','MAGMALE','PUBGARDN','PUBCULIN','PUBHLTH','PUBDOITY','PUBNEWFN','PUBPHOTO','PUBOPP']].fillna('U')"
   ]
  },
  {
   "source": [
    "### MAJOR"
   ],
   "cell_type": "markdown",
   "metadata": {}
  },
  {
   "cell_type": "code",
   "execution_count": 39,
   "metadata": {},
   "outputs": [
    {
     "output_type": "execute_result",
     "data": {
      "text/plain": [
       "array([' ', 'X'], dtype=object)"
      ]
     },
     "metadata": {},
     "execution_count": 39
    }
   ],
   "source": [
    "df.MAJOR.unique()"
   ]
  },
  {
   "cell_type": "code",
   "execution_count": 40,
   "metadata": {},
   "outputs": [],
   "source": [
    "df.MAJOR.replace(' ',0,inplace=True)\n",
    "df.MAJOR.replace('X',1,inplace=True)"
   ]
  },
  {
   "source": [
    "### WEALTH2"
   ],
   "cell_type": "markdown",
   "metadata": {}
  },
  {
   "cell_type": "code",
   "execution_count": 41,
   "metadata": {},
   "outputs": [
    {
     "output_type": "stream",
     "name": "stdout",
     "text": [
      "Null Values: 42352\n"
     ]
    }
   ],
   "source": [
    "print('Null Values:',df.WEALTH2.isnull().sum())\n",
    "df.drop('WEALTH2',inplace=True,axis = 1)"
   ]
  },
  {
   "source": [
    "### GEOCODE"
   ],
   "cell_type": "markdown",
   "metadata": {}
  },
  {
   "cell_type": "code",
   "execution_count": 42,
   "metadata": {},
   "outputs": [
    {
     "output_type": "execute_result",
     "data": {
      "text/plain": [
       "array([' ', '02', '03', '05', '04', '14', '01', '12'], dtype=object)"
      ]
     },
     "metadata": {},
     "execution_count": 42
    }
   ],
   "source": [
    "df.GEOCODE.unique()"
   ]
  },
  {
   "cell_type": "code",
   "execution_count": 43,
   "metadata": {},
   "outputs": [],
   "source": [
    "df.GEOCODE.replace(' ','U',inplace=True)"
   ]
  },
  {
   "source": [
    "### LIFESRC"
   ],
   "cell_type": "markdown",
   "metadata": {}
  },
  {
   "cell_type": "code",
   "execution_count": 44,
   "metadata": {},
   "outputs": [
    {
     "output_type": "stream",
     "name": "stdout",
     "text": [
      "Null Values: 51849\n"
     ]
    }
   ],
   "source": [
    "print('Null Values:',len(df[df.LIFESRC == ' ']))\n",
    "df.drop('LIFESRC',inplace=True,axis = 1)"
   ]
  },
  {
   "source": [
    "### Population Related Columns"
   ],
   "cell_type": "markdown",
   "metadata": {}
  },
  {
   "cell_type": "code",
   "execution_count": 45,
   "metadata": {},
   "outputs": [],
   "source": [
    "popcolumns = df[['POP901','POP90C1','POP90C2','POP90C3','POP90C5']]\n",
    "\n",
    "fig, axes = plt.subplots(1,5,figsize=(20,10)) # create figure and axes\n",
    "\n",
    "for i,el in enumerate(list(popcolumns.columns.values)):\n",
    "    popcolumns.boxplot(el,ax=axes.flatten()[i]) \n",
    "    \n",
    "plt.show()"
   ]
  },
  {
   "cell_type": "code",
   "execution_count": 46,
   "metadata": {},
   "outputs": [
    {
     "output_type": "stream",
     "name": "stdout",
     "text": [
      "Percentage of data kept after removing outliers: 0.9885\n"
     ]
    }
   ],
   "source": [
    "df = IQR_OutlierRemover(df,'POP901',12.5)"
   ]
  },
  {
   "cell_type": "code",
   "execution_count": 47,
   "metadata": {},
   "outputs": [
    {
     "output_type": "stream",
     "name": "stdout",
     "text": [
      "Percentage of data kept after removing outliers: 0.9871\n"
     ]
    }
   ],
   "source": [
    "df = IQR_OutlierRemover(df,'POP90C5',5)"
   ]
  },
  {
   "source": [
    "### Ethnicity"
   ],
   "cell_type": "markdown",
   "metadata": {}
  },
  {
   "cell_type": "code",
   "execution_count": 48,
   "metadata": {},
   "outputs": [],
   "source": [
    "ethcolumns = df[['ETH1','ETH2','ETH3','ETH4','ETH5','ETH6','ETH10','ETH11','ETH12']]\n",
    "\n",
    "fig, axes = plt.subplots(1,9,figsize=(20,10)) # create figure and axes\n",
    "\n",
    "for i,el in enumerate(list(ethcolumns.columns.values)):\n",
    "    ethcolumns.boxplot(el,ax=axes.flatten()[i]) \n",
    "    \n",
    "plt.show()"
   ]
  },
  {
   "cell_type": "code",
   "execution_count": 49,
   "metadata": {},
   "outputs": [
    {
     "output_type": "stream",
     "name": "stdout",
     "text": [
      "Percentage of data kept after removing outliers: 0.985\nPercentage of data kept after removing outliers: 0.99\n"
     ]
    }
   ],
   "source": [
    "#Removing Outlier of some columns without getting rid of lots of data\n",
    "df = IQR_OutlierRemover(df,'ETH1',5)\n",
    "df = IQR_OutlierRemover(df,'ETH2',13)\n",
    "df = IQR_OutlierRemover(df,'ETH3',10)\n",
    "df = IQR_OutlierRemover(df,'ETH4',13)\n",
    "df = IQR_OutlierRemover(df,'ETH5',12.5)\n",
    "df = IQR_OutlierRemover(df,'ETH12',1.5)"
   ]
  },
  {
   "source": [
    "# YOU CAN START FROM HERE!!!!"
   ],
   "cell_type": "markdown",
   "metadata": {}
  },
  {
   "cell_type": "code",
   "execution_count": 57,
   "metadata": {},
   "outputs": [
    {
     "output_type": "execute_result",
     "data": {
      "text/plain": [
       "       AGE901  AGE907  MARR1  MARR2  MARR3  MARR4  HHP2   HV1  HV3  HU1  ...  \\\n",
       "0          39      25     61      7     12     19   276   479    3   86  ...   \n",
       "1          34      32     69      4      3     24   360  5468   12   96  ...   \n",
       "2          35      23     63      9      9     19   254   497    2   78  ...   \n",
       "3          32      25     63      9      6     23   283  1000    2   48  ...   \n",
       "5          32      27     65      9      5     21   265   807    3   70  ...   \n",
       "...       ...     ...    ...    ...    ...    ...   ...   ...  ...  ...  ...   \n",
       "95407      28      30     58     15      3     24   271   988    6   56  ...   \n",
       "95408      30      39     73      4      2     20   346  1679    3   88  ...   \n",
       "95409      28      32     45     19      5     31   268   376    4   66  ...   \n",
       "95410      34      25     56      9      8     27   324  2421   11   88  ...   \n",
       "95411      34      29     73      6      3     18   293   938    5   91  ...   \n",
       "\n",
       "       RFA_2F  RFA_2A  MDMAUD_R  MDMAUD_F  MDMAUD_A  GEOCODE2   Age  \\\n",
       "0           4       E         X         X         X         C  63.0   \n",
       "1           2       G         X         X         X         A  48.0   \n",
       "2           4       E         X         X         X         C  62.0   \n",
       "3           4       E         X         X         X         C  72.0   \n",
       "5           1       F         X         X         X         C  62.0   \n",
       "...       ...     ...       ...       ...       ...       ...   ...   \n",
       "95407       1       G         X         X         X         C  62.0   \n",
       "95408       1       F         X         X         X         A  50.0   \n",
       "95409       3       E         X         X         X         B  62.0   \n",
       "95410       4       F         X         X         X         A  60.0   \n",
       "95411       1       G         C         1         C         C  82.0   \n",
       "\n",
       "       RFA_USEDTO_R  RFA_USEDTO_F  RFA_USEDTO_A  \n",
       "0                 S             4             E  \n",
       "1                 A             2             G  \n",
       "2                 S             4             E  \n",
       "3                 S             4             E  \n",
       "5                 A             1             F  \n",
       "...             ...           ...           ...  \n",
       "95407             F             1             G  \n",
       "95408             P             1             F  \n",
       "95409             S             4             E  \n",
       "95410             S             4             F  \n",
       "95411             A             1             G  \n",
       "\n",
       "[87421 rows x 89 columns]"
      ],
      "text/html": "<div>\n<style scoped>\n    .dataframe tbody tr th:only-of-type {\n        vertical-align: middle;\n    }\n\n    .dataframe tbody tr th {\n        vertical-align: top;\n    }\n\n    .dataframe thead th {\n        text-align: right;\n    }\n</style>\n<table border=\"1\" class=\"dataframe\">\n  <thead>\n    <tr style=\"text-align: right;\">\n      <th></th>\n      <th>AGE901</th>\n      <th>AGE907</th>\n      <th>MARR1</th>\n      <th>MARR2</th>\n      <th>MARR3</th>\n      <th>MARR4</th>\n      <th>HHP2</th>\n      <th>HV1</th>\n      <th>HV3</th>\n      <th>HU1</th>\n      <th>...</th>\n      <th>RFA_2F</th>\n      <th>RFA_2A</th>\n      <th>MDMAUD_R</th>\n      <th>MDMAUD_F</th>\n      <th>MDMAUD_A</th>\n      <th>GEOCODE2</th>\n      <th>Age</th>\n      <th>RFA_USEDTO_R</th>\n      <th>RFA_USEDTO_F</th>\n      <th>RFA_USEDTO_A</th>\n    </tr>\n  </thead>\n  <tbody>\n    <tr>\n      <th>0</th>\n      <td>39</td>\n      <td>25</td>\n      <td>61</td>\n      <td>7</td>\n      <td>12</td>\n      <td>19</td>\n      <td>276</td>\n      <td>479</td>\n      <td>3</td>\n      <td>86</td>\n      <td>...</td>\n      <td>4</td>\n      <td>E</td>\n      <td>X</td>\n      <td>X</td>\n      <td>X</td>\n      <td>C</td>\n      <td>63.0</td>\n      <td>S</td>\n      <td>4</td>\n      <td>E</td>\n    </tr>\n    <tr>\n      <th>1</th>\n      <td>34</td>\n      <td>32</td>\n      <td>69</td>\n      <td>4</td>\n      <td>3</td>\n      <td>24</td>\n      <td>360</td>\n      <td>5468</td>\n      <td>12</td>\n      <td>96</td>\n      <td>...</td>\n      <td>2</td>\n      <td>G</td>\n      <td>X</td>\n      <td>X</td>\n      <td>X</td>\n      <td>A</td>\n      <td>48.0</td>\n      <td>A</td>\n      <td>2</td>\n      <td>G</td>\n    </tr>\n    <tr>\n      <th>2</th>\n      <td>35</td>\n      <td>23</td>\n      <td>63</td>\n      <td>9</td>\n      <td>9</td>\n      <td>19</td>\n      <td>254</td>\n      <td>497</td>\n      <td>2</td>\n      <td>78</td>\n      <td>...</td>\n      <td>4</td>\n      <td>E</td>\n      <td>X</td>\n      <td>X</td>\n      <td>X</td>\n      <td>C</td>\n      <td>62.0</td>\n      <td>S</td>\n      <td>4</td>\n      <td>E</td>\n    </tr>\n    <tr>\n      <th>3</th>\n      <td>32</td>\n      <td>25</td>\n      <td>63</td>\n      <td>9</td>\n      <td>6</td>\n      <td>23</td>\n      <td>283</td>\n      <td>1000</td>\n      <td>2</td>\n      <td>48</td>\n      <td>...</td>\n      <td>4</td>\n      <td>E</td>\n      <td>X</td>\n      <td>X</td>\n      <td>X</td>\n      <td>C</td>\n      <td>72.0</td>\n      <td>S</td>\n      <td>4</td>\n      <td>E</td>\n    </tr>\n    <tr>\n      <th>5</th>\n      <td>32</td>\n      <td>27</td>\n      <td>65</td>\n      <td>9</td>\n      <td>5</td>\n      <td>21</td>\n      <td>265</td>\n      <td>807</td>\n      <td>3</td>\n      <td>70</td>\n      <td>...</td>\n      <td>1</td>\n      <td>F</td>\n      <td>X</td>\n      <td>X</td>\n      <td>X</td>\n      <td>C</td>\n      <td>62.0</td>\n      <td>A</td>\n      <td>1</td>\n      <td>F</td>\n    </tr>\n    <tr>\n      <th>...</th>\n      <td>...</td>\n      <td>...</td>\n      <td>...</td>\n      <td>...</td>\n      <td>...</td>\n      <td>...</td>\n      <td>...</td>\n      <td>...</td>\n      <td>...</td>\n      <td>...</td>\n      <td>...</td>\n      <td>...</td>\n      <td>...</td>\n      <td>...</td>\n      <td>...</td>\n      <td>...</td>\n      <td>...</td>\n      <td>...</td>\n      <td>...</td>\n      <td>...</td>\n      <td>...</td>\n    </tr>\n    <tr>\n      <th>95407</th>\n      <td>28</td>\n      <td>30</td>\n      <td>58</td>\n      <td>15</td>\n      <td>3</td>\n      <td>24</td>\n      <td>271</td>\n      <td>988</td>\n      <td>6</td>\n      <td>56</td>\n      <td>...</td>\n      <td>1</td>\n      <td>G</td>\n      <td>X</td>\n      <td>X</td>\n      <td>X</td>\n      <td>C</td>\n      <td>62.0</td>\n      <td>F</td>\n      <td>1</td>\n      <td>G</td>\n    </tr>\n    <tr>\n      <th>95408</th>\n      <td>30</td>\n      <td>39</td>\n      <td>73</td>\n      <td>4</td>\n      <td>2</td>\n      <td>20</td>\n      <td>346</td>\n      <td>1679</td>\n      <td>3</td>\n      <td>88</td>\n      <td>...</td>\n      <td>1</td>\n      <td>F</td>\n      <td>X</td>\n      <td>X</td>\n      <td>X</td>\n      <td>A</td>\n      <td>50.0</td>\n      <td>P</td>\n      <td>1</td>\n      <td>F</td>\n    </tr>\n    <tr>\n      <th>95409</th>\n      <td>28</td>\n      <td>32</td>\n      <td>45</td>\n      <td>19</td>\n      <td>5</td>\n      <td>31</td>\n      <td>268</td>\n      <td>376</td>\n      <td>4</td>\n      <td>66</td>\n      <td>...</td>\n      <td>3</td>\n      <td>E</td>\n      <td>X</td>\n      <td>X</td>\n      <td>X</td>\n      <td>B</td>\n      <td>62.0</td>\n      <td>S</td>\n      <td>4</td>\n      <td>E</td>\n    </tr>\n    <tr>\n      <th>95410</th>\n      <td>34</td>\n      <td>25</td>\n      <td>56</td>\n      <td>9</td>\n      <td>8</td>\n      <td>27</td>\n      <td>324</td>\n      <td>2421</td>\n      <td>11</td>\n      <td>88</td>\n      <td>...</td>\n      <td>4</td>\n      <td>F</td>\n      <td>X</td>\n      <td>X</td>\n      <td>X</td>\n      <td>A</td>\n      <td>60.0</td>\n      <td>S</td>\n      <td>4</td>\n      <td>F</td>\n    </tr>\n    <tr>\n      <th>95411</th>\n      <td>34</td>\n      <td>29</td>\n      <td>73</td>\n      <td>6</td>\n      <td>3</td>\n      <td>18</td>\n      <td>293</td>\n      <td>938</td>\n      <td>5</td>\n      <td>91</td>\n      <td>...</td>\n      <td>1</td>\n      <td>G</td>\n      <td>C</td>\n      <td>1</td>\n      <td>C</td>\n      <td>C</td>\n      <td>82.0</td>\n      <td>A</td>\n      <td>1</td>\n      <td>G</td>\n    </tr>\n  </tbody>\n</table>\n<p>87421 rows × 89 columns</p>\n</div>"
     },
     "metadata": {},
     "execution_count": 57
    }
   ],
   "source": [
    "#START FROM THIS COLUMN (AGE901)\n",
    "df.iloc[:,61:]"
   ]
  },
  {
   "cell_type": "code",
   "execution_count": null,
   "metadata": {},
   "outputs": [],
   "source": []
  },
  {
   "cell_type": "code",
   "execution_count": null,
   "metadata": {},
   "outputs": [],
   "source": []
  },
  {
   "cell_type": "code",
   "execution_count": null,
   "metadata": {},
   "outputs": [],
   "source": []
  },
  {
   "cell_type": "code",
   "execution_count": null,
   "metadata": {},
   "outputs": [],
   "source": []
  },
  {
   "cell_type": "code",
   "execution_count": null,
   "metadata": {},
   "outputs": [],
   "source": []
  },
  {
   "cell_type": "code",
   "execution_count": null,
   "metadata": {},
   "outputs": [],
   "source": []
  },
  {
   "cell_type": "code",
   "execution_count": 56,
   "metadata": {},
   "outputs": [
    {
     "output_type": "execute_result",
     "data": {
      "text/plain": [
       "['POP90C5', 'HU4', 'LFC4', 'NUMPROM', 'CARDGIFT']"
      ]
     },
     "metadata": {},
     "execution_count": 56
    }
   ],
   "source": [
    "#find features with correlations greater than 0.9 in order to remove them\n",
    "limit = 0.90\n",
    "corr = df.corr()\n",
    "mask = np.triu(np.ones(corr.shape), k=1).astype(bool)\n",
    "corr_no_diag = corr.where(mask)\n",
    "coll = [c for c in corr_no_diag.columns if any(abs(corr_no_diag[c]) > limit)]\n",
    "coll\n",
    "#df.drop(coll,axis = 1,inplace=True)"
   ]
  },
  {
   "cell_type": "markdown",
   "metadata": {},
   "source": [
    "### Plotting functions"
   ]
  },
  {
   "cell_type": "code",
   "execution_count": 57,
   "metadata": {},
   "outputs": [],
   "source": [
    "def boxplot_func(df):\n",
    "    plot_features = df.columns\n",
    "    #Prepare figure layout\n",
    "    rows = int(math.ceil(df.shape[1]/8))\n",
    "    sns.set()\n",
    "    fig, axes = plt.subplots(nrows = rows, ncols=8, figsize=(16,4*rows))\n",
    "  \n",
    "    # Draw the boxplots\n",
    "    for i in zip(axes.flatten(), plot_features):\n",
    "        sns.boxplot(data=df.loc[:,i[1]], ax=i[0])      \n",
    "        i[0].set_title(i[1])\n",
    "        i[0].set_ylabel(\"\")\n",
    "        for tick in i[0].get_xticklabels():\n",
    "            tick.set_rotation(-25)\n",
    "    \n",
    "    # Finalize the plot\n",
    "    plt.subplots_adjust(wspace=2,hspace = 0.5)\n",
    "    fig.suptitle(\"Box plots\", fontsize=25)\n",
    "    sns.despine(bottom=True)\n",
    "    plt.show()\n",
    "    \n",
    "def histplot_func(df):\n",
    "    plot_features = df.columns\n",
    "    #Prepare figure layout\n",
    "    rows = int(math.ceil(df.shape[1]/8))\n",
    "    sns.set()\n",
    "    fig, axes = plt.subplots(nrows = rows, ncols=8, figsize=(24,2*rows))\n",
    "       \n",
    "    # Draw the boxplots\n",
    "    for i in zip(axes.flatten(), plot_features):\n",
    "        sns.histplot(data=df.loc[:,i[1]], bins=20,ax=i[0])\n",
    "        i[0].set_xlabel(i[1])\n",
    "        i[0].set_ylabel(\"\")\n",
    "      \n",
    "    # Finalize the plot\n",
    "    plt.subplots_adjust(wspace=0.5,hspace = 0.5)\n",
    "    fig.suptitle(\"Histograms\", fontsize=15)\n",
    "    sns.despine(bottom=True)\n",
    "    plt.show()\n",
    "    \n",
    "def corrheatmap(dataframe):\n",
    "    sns.set(style=\"white\")\n",
    "\n",
    "    # Compute the correlation matrix\n",
    "    corr = dataframe.corr() #Getting correlation of numerical variables\n",
    "\n",
    "    # Generate a mask for the upper triangle\n",
    "    mask = np.zeros_like(corr, dtype=np.bool) #Return an array of zeros (Falses) with the same shape and type as a given array\n",
    "    mask[np.triu_indices_from(mask)] = True #The upper-triangle array is now composed by True values\n",
    "\n",
    "    # Set up the matplotlib figure\n",
    "    fig, ax = plt.subplots(figsize=(12, 6))\n",
    "\n",
    "    # Generate a custom diverging colormap\n",
    "    cmap = sns.diverging_palette(220, 10, as_cmap=True) #Make a diverging palette between two HUSL colors. Return a matplotlib colormap object.\n",
    "\n",
    "    # Draw the heatmap with the mask and correct aspect ratio\n",
    "    sns.heatmap(corr, mask=mask, cmap=cmap, center=0, square=True, annot=True,annot_kws={\"fontsize\":8}, linewidths=.5,vmin = -1, vmax = 1, ax=ax)\n",
    "\n",
    "    # Layout\n",
    "    plt.subplots_adjust(top=0.95)\n",
    "    plt.suptitle(\"Correlation matrix\", fontsize=15)\n",
    "    plt.yticks(rotation=0)\n",
    "    # Fixing the bug of partially cut-off bottom and top cells\n",
    "    b, t = plt.ylim() # discover the values for bottom and top\n",
    "    b += 0.5 # Add 0.5 to the bottom\n",
    "    t -= 0.5 # Subtract 0.5 from the top\n",
    "    plt.ylim(b, t) # update the ylim(bottom, top) values\n",
    "\n",
    "    plt.show()"
   ]
  }
 ],
 "metadata": {
  "kernelspec": {
   "name": "python3",
   "display_name": "Python 3.8.5 64-bit (conda)",
   "metadata": {
    "interpreter": {
     "hash": "1eab502ec777fae6c5134d02d87699fbb8a565c86c73adfde84fabe361f08549"
    }
   }
  },
  "language_info": {
   "codemirror_mode": {
    "name": "ipython",
    "version": 3
   },
   "file_extension": ".py",
   "mimetype": "text/x-python",
   "name": "python",
   "nbconvert_exporter": "python",
   "pygments_lexer": "ipython3",
   "version": "3.8.5-final"
  }
 },
 "nbformat": 4,
 "nbformat_minor": 4
}